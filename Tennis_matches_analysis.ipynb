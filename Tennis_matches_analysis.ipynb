{
 "cells": [
  {
   "cell_type": "markdown",
   "metadata": {},
   "source": [
    "# Статистический анализ датасета по теннису"
   ]
  },
  {
   "cell_type": "code",
   "execution_count": 1,
   "metadata": {},
   "outputs": [],
   "source": [
    "# импорт всех необходимых библиотек\n",
    "import requests\n",
    "from bs4 import BeautifulSoup\n",
    "import re\n",
    "import os\n",
    "import pandas as pd\n",
    "import seaborn as sns\n",
    "import matplotlib.pyplot as plt\n",
    "from scipy.stats import shapiro\n",
    "from scipy.stats import mannwhitneyu\n",
    "import re\n",
    "import numpy as np\n",
    "import scipy.stats as stats\n",
    "from scipy import stats\n",
    "from scipy.stats import f_oneway\n",
    "from scipy.stats import kruskal\n",
    "from scipy.stats import friedmanchisquare\n",
    "import statsmodels.api as sm\n",
    "from scipy.stats import chi2_contingency"
   ]
  },
  {
   "cell_type": "code",
   "execution_count": 2,
   "metadata": {},
   "outputs": [],
   "source": [
    "# Загрузка файлов из репозитория GitHub в локальную папку\n",
    "\n",
    "# URL репозитория\n",
    "repo_url = 'https://github.com/JeffSackmann/tennis_atp'\n",
    "\n",
    "# Папка, в которой находятся файлы\n",
    "folder_path = 'blob/master/'\n",
    "\n",
    "# Директория для сохранения файлов\n",
    "save_dir = 'data/atp_matches'\n",
    "\n",
    "# Создаем директорию, если она не существует\n",
    "if not os.path.exists(save_dir):\n",
    "    os.makedirs(save_dir)\n",
    "\n",
    "# Создаем сессию requests\n",
    "with requests.Session() as session:\n",
    "    # Получаем страницу репозитория с файлами\n",
    "    response = session.get(f'{repo_url}/{folder_path}')\n",
    "    if response.ok:\n",
    "        # Используем BeautifulSoup для парсинга HTML\n",
    "        soup = BeautifulSoup(response.text, 'html.parser')\n",
    "\n",
    "        # Ищем все ссылки на csv файлы, которые соответствуют маске\n",
    "        regex = re.compile(r'atp_matches_\\d{4}\\.csv')\n",
    "        for a in soup.find_all('a', href=True):\n",
    "            if regex.match(a.text):\n",
    "                # Строим URL файла\n",
    "                file_url = f'https://github.com{a[\"href\"]}'\n",
    "                # Превращаем ссылку на просмотр в ссылку на скачивание\n",
    "                raw_url = file_url.replace('/blob/', '/raw/')\n",
    "                # Скачиваем файл\n",
    "                file_response = session.get(raw_url)\n",
    "                if file_response.ok:\n",
    "                    # Сохраняем содержимое файла\n",
    "                    file_name = os.path.join(save_dir, a.text)\n",
    "                    with open(file_name, 'wb') as file:\n",
    "                        file.write(file_response.content)\n",
    "                else:\n",
    "                    print(f'Failed to download {a.text}')\n",
    "    else:\n",
    "        print('Failed to retrieve the repository page')"
   ]
  },
  {
   "cell_type": "code",
   "execution_count": 3,
   "metadata": {},
   "outputs": [],
   "source": [
    "# Инициализация словаря для хранения датасетов\n",
    "datasets = {}\n",
    "\n",
    "# Цикл по годам от 1968 до 2023 включительно\n",
    "for year in range(1968, 2024):\n",
    "    file_name = f'data/atp_matches/atp_matches_{year}.csv'\n",
    "    datasets[year] = pd.read_csv(file_name)"
   ]
  },
  {
   "cell_type": "code",
   "execution_count": 4,
   "metadata": {},
   "outputs": [],
   "source": [
    "# список столбцов, по которым будет идти объединение\n",
    "columns = list(datasets[2000].columns)"
   ]
  },
  {
   "cell_type": "code",
   "execution_count": 5,
   "metadata": {},
   "outputs": [],
   "source": [
    "# Список для хранения отфильтрованных датасетов\n",
    "filtered_datasets = []\n",
    "\n",
    "# Проходим по всем датасетам в словаре\n",
    "for year, df in datasets.items():\n",
    "    # Выбираем только столбцы из списка columns\n",
    "    filtered_df = df[columns]\n",
    "    # Добавляем отфильтрованный датасет в список\n",
    "    filtered_datasets.append(filtered_df)\n",
    "\n",
    "# Объединяем все отфильтрованные датасеты в один\n",
    "combined_df = pd.concat(filtered_datasets, ignore_index=True)"
   ]
  },
  {
   "cell_type": "code",
   "execution_count": 6,
   "metadata": {},
   "outputs": [
    {
     "data": {
      "text/html": [
       "<div>\n",
       "<style scoped>\n",
       "    .dataframe tbody tr th:only-of-type {\n",
       "        vertical-align: middle;\n",
       "    }\n",
       "\n",
       "    .dataframe tbody tr th {\n",
       "        vertical-align: top;\n",
       "    }\n",
       "\n",
       "    .dataframe thead th {\n",
       "        text-align: right;\n",
       "    }\n",
       "</style>\n",
       "<table border=\"1\" class=\"dataframe\">\n",
       "  <thead>\n",
       "    <tr style=\"text-align: right;\">\n",
       "      <th></th>\n",
       "      <th>tourney_id</th>\n",
       "      <th>tourney_name</th>\n",
       "      <th>surface</th>\n",
       "      <th>draw_size</th>\n",
       "      <th>tourney_level</th>\n",
       "      <th>tourney_date</th>\n",
       "      <th>match_num</th>\n",
       "      <th>winner_id</th>\n",
       "      <th>winner_seed</th>\n",
       "      <th>winner_entry</th>\n",
       "      <th>...</th>\n",
       "      <th>l_1stIn</th>\n",
       "      <th>l_1stWon</th>\n",
       "      <th>l_2ndWon</th>\n",
       "      <th>l_SvGms</th>\n",
       "      <th>l_bpSaved</th>\n",
       "      <th>l_bpFaced</th>\n",
       "      <th>winner_rank</th>\n",
       "      <th>winner_rank_points</th>\n",
       "      <th>loser_rank</th>\n",
       "      <th>loser_rank_points</th>\n",
       "    </tr>\n",
       "  </thead>\n",
       "  <tbody>\n",
       "    <tr>\n",
       "      <th>136756</th>\n",
       "      <td>2005-315</td>\n",
       "      <td>Newport</td>\n",
       "      <td>Grass</td>\n",
       "      <td>32.0</td>\n",
       "      <td>A</td>\n",
       "      <td>20050704</td>\n",
       "      <td>6</td>\n",
       "      <td>103503</td>\n",
       "      <td>NaN</td>\n",
       "      <td>NaN</td>\n",
       "      <td>...</td>\n",
       "      <td>40.0</td>\n",
       "      <td>32.0</td>\n",
       "      <td>22.0</td>\n",
       "      <td>13.0</td>\n",
       "      <td>5.0</td>\n",
       "      <td>8.0</td>\n",
       "      <td>110.0</td>\n",
       "      <td>386.0</td>\n",
       "      <td>157.0</td>\n",
       "      <td>267.0</td>\n",
       "    </tr>\n",
       "    <tr>\n",
       "      <th>24137</th>\n",
       "      <td>1974-410</td>\n",
       "      <td>Monte Carlo WCT</td>\n",
       "      <td>Clay</td>\n",
       "      <td>32.0</td>\n",
       "      <td>A</td>\n",
       "      <td>19740408</td>\n",
       "      <td>27</td>\n",
       "      <td>100060</td>\n",
       "      <td>7.0</td>\n",
       "      <td>NaN</td>\n",
       "      <td>...</td>\n",
       "      <td>NaN</td>\n",
       "      <td>NaN</td>\n",
       "      <td>NaN</td>\n",
       "      <td>NaN</td>\n",
       "      <td>NaN</td>\n",
       "      <td>NaN</td>\n",
       "      <td>22.0</td>\n",
       "      <td>NaN</td>\n",
       "      <td>23.0</td>\n",
       "      <td>NaN</td>\n",
       "    </tr>\n",
       "    <tr>\n",
       "      <th>307</th>\n",
       "      <td>1968-416</td>\n",
       "      <td>Rome</td>\n",
       "      <td>Clay</td>\n",
       "      <td>128.0</td>\n",
       "      <td>M</td>\n",
       "      <td>19680506</td>\n",
       "      <td>58</td>\n",
       "      <td>106971</td>\n",
       "      <td>NaN</td>\n",
       "      <td>NaN</td>\n",
       "      <td>...</td>\n",
       "      <td>NaN</td>\n",
       "      <td>NaN</td>\n",
       "      <td>NaN</td>\n",
       "      <td>NaN</td>\n",
       "      <td>NaN</td>\n",
       "      <td>NaN</td>\n",
       "      <td>NaN</td>\n",
       "      <td>NaN</td>\n",
       "      <td>NaN</td>\n",
       "      <td>NaN</td>\n",
       "    </tr>\n",
       "    <tr>\n",
       "      <th>88308</th>\n",
       "      <td>1991-520</td>\n",
       "      <td>Roland Garros</td>\n",
       "      <td>Clay</td>\n",
       "      <td>128.0</td>\n",
       "      <td>G</td>\n",
       "      <td>19910527</td>\n",
       "      <td>49</td>\n",
       "      <td>101098</td>\n",
       "      <td>7.0</td>\n",
       "      <td>NaN</td>\n",
       "      <td>...</td>\n",
       "      <td>NaN</td>\n",
       "      <td>NaN</td>\n",
       "      <td>NaN</td>\n",
       "      <td>NaN</td>\n",
       "      <td>NaN</td>\n",
       "      <td>NaN</td>\n",
       "      <td>7.0</td>\n",
       "      <td>1589.0</td>\n",
       "      <td>84.0</td>\n",
       "      <td>445.0</td>\n",
       "    </tr>\n",
       "    <tr>\n",
       "      <th>90010</th>\n",
       "      <td>1991-375</td>\n",
       "      <td>Lyon</td>\n",
       "      <td>Carpet</td>\n",
       "      <td>32.0</td>\n",
       "      <td>A</td>\n",
       "      <td>19911014</td>\n",
       "      <td>7</td>\n",
       "      <td>100870</td>\n",
       "      <td>NaN</td>\n",
       "      <td>NaN</td>\n",
       "      <td>...</td>\n",
       "      <td>41.0</td>\n",
       "      <td>27.0</td>\n",
       "      <td>14.0</td>\n",
       "      <td>9.0</td>\n",
       "      <td>11.0</td>\n",
       "      <td>15.0</td>\n",
       "      <td>92.0</td>\n",
       "      <td>405.0</td>\n",
       "      <td>59.0</td>\n",
       "      <td>530.0</td>\n",
       "    </tr>\n",
       "    <tr>\n",
       "      <th>119400</th>\n",
       "      <td>1999-560</td>\n",
       "      <td>US Open</td>\n",
       "      <td>Hard</td>\n",
       "      <td>128.0</td>\n",
       "      <td>G</td>\n",
       "      <td>19990830</td>\n",
       "      <td>54</td>\n",
       "      <td>102466</td>\n",
       "      <td>NaN</td>\n",
       "      <td>NaN</td>\n",
       "      <td>...</td>\n",
       "      <td>99.0</td>\n",
       "      <td>60.0</td>\n",
       "      <td>18.0</td>\n",
       "      <td>19.0</td>\n",
       "      <td>9.0</td>\n",
       "      <td>14.0</td>\n",
       "      <td>58.0</td>\n",
       "      <td>759.0</td>\n",
       "      <td>312.0</td>\n",
       "      <td>124.0</td>\n",
       "    </tr>\n",
       "    <tr>\n",
       "      <th>3320</th>\n",
       "      <td>1968-9335</td>\n",
       "      <td>Indianapolis</td>\n",
       "      <td>Clay</td>\n",
       "      <td>64.0</td>\n",
       "      <td>A</td>\n",
       "      <td>19680708</td>\n",
       "      <td>240</td>\n",
       "      <td>109999</td>\n",
       "      <td>NaN</td>\n",
       "      <td>NaN</td>\n",
       "      <td>...</td>\n",
       "      <td>NaN</td>\n",
       "      <td>NaN</td>\n",
       "      <td>NaN</td>\n",
       "      <td>NaN</td>\n",
       "      <td>NaN</td>\n",
       "      <td>NaN</td>\n",
       "      <td>NaN</td>\n",
       "      <td>NaN</td>\n",
       "      <td>NaN</td>\n",
       "      <td>NaN</td>\n",
       "    </tr>\n",
       "    <tr>\n",
       "      <th>127209</th>\n",
       "      <td>2002-328</td>\n",
       "      <td>Basel</td>\n",
       "      <td>Carpet</td>\n",
       "      <td>32.0</td>\n",
       "      <td>A</td>\n",
       "      <td>20021021</td>\n",
       "      <td>7</td>\n",
       "      <td>103484</td>\n",
       "      <td>NaN</td>\n",
       "      <td>NaN</td>\n",
       "      <td>...</td>\n",
       "      <td>48.0</td>\n",
       "      <td>31.0</td>\n",
       "      <td>17.0</td>\n",
       "      <td>10.0</td>\n",
       "      <td>8.0</td>\n",
       "      <td>10.0</td>\n",
       "      <td>27.0</td>\n",
       "      <td>1185.0</td>\n",
       "      <td>60.0</td>\n",
       "      <td>645.0</td>\n",
       "    </tr>\n",
       "    <tr>\n",
       "      <th>90169</th>\n",
       "      <td>1991-215</td>\n",
       "      <td>Buzios</td>\n",
       "      <td>Hard</td>\n",
       "      <td>32.0</td>\n",
       "      <td>A</td>\n",
       "      <td>19911028</td>\n",
       "      <td>26</td>\n",
       "      <td>101462</td>\n",
       "      <td>NaN</td>\n",
       "      <td>NaN</td>\n",
       "      <td>...</td>\n",
       "      <td>80.0</td>\n",
       "      <td>45.0</td>\n",
       "      <td>8.0</td>\n",
       "      <td>14.0</td>\n",
       "      <td>10.0</td>\n",
       "      <td>15.0</td>\n",
       "      <td>183.0</td>\n",
       "      <td>183.0</td>\n",
       "      <td>35.0</td>\n",
       "      <td>798.0</td>\n",
       "    </tr>\n",
       "    <tr>\n",
       "      <th>158655</th>\n",
       "      <td>2012-580</td>\n",
       "      <td>Australian Open</td>\n",
       "      <td>Hard</td>\n",
       "      <td>128.0</td>\n",
       "      <td>G</td>\n",
       "      <td>20120116</td>\n",
       "      <td>43</td>\n",
       "      <td>105023</td>\n",
       "      <td>NaN</td>\n",
       "      <td>NaN</td>\n",
       "      <td>...</td>\n",
       "      <td>37.0</td>\n",
       "      <td>26.0</td>\n",
       "      <td>12.0</td>\n",
       "      <td>12.0</td>\n",
       "      <td>3.0</td>\n",
       "      <td>8.0</td>\n",
       "      <td>95.0</td>\n",
       "      <td>589.0</td>\n",
       "      <td>135.0</td>\n",
       "      <td>400.0</td>\n",
       "    </tr>\n",
       "  </tbody>\n",
       "</table>\n",
       "<p>10 rows × 49 columns</p>\n",
       "</div>"
      ],
      "text/plain": [
       "       tourney_id     tourney_name surface  draw_size tourney_level  \\\n",
       "136756   2005-315          Newport   Grass       32.0             A   \n",
       "24137    1974-410  Monte Carlo WCT    Clay       32.0             A   \n",
       "307      1968-416             Rome    Clay      128.0             M   \n",
       "88308    1991-520    Roland Garros    Clay      128.0             G   \n",
       "90010    1991-375             Lyon  Carpet       32.0             A   \n",
       "119400   1999-560          US Open    Hard      128.0             G   \n",
       "3320    1968-9335     Indianapolis    Clay       64.0             A   \n",
       "127209   2002-328            Basel  Carpet       32.0             A   \n",
       "90169    1991-215           Buzios    Hard       32.0             A   \n",
       "158655   2012-580  Australian Open    Hard      128.0             G   \n",
       "\n",
       "        tourney_date  match_num  winner_id  winner_seed winner_entry  ...  \\\n",
       "136756      20050704          6     103503          NaN          NaN  ...   \n",
       "24137       19740408         27     100060          7.0          NaN  ...   \n",
       "307         19680506         58     106971          NaN          NaN  ...   \n",
       "88308       19910527         49     101098          7.0          NaN  ...   \n",
       "90010       19911014          7     100870          NaN          NaN  ...   \n",
       "119400      19990830         54     102466          NaN          NaN  ...   \n",
       "3320        19680708        240     109999          NaN          NaN  ...   \n",
       "127209      20021021          7     103484          NaN          NaN  ...   \n",
       "90169       19911028         26     101462          NaN          NaN  ...   \n",
       "158655      20120116         43     105023          NaN          NaN  ...   \n",
       "\n",
       "       l_1stIn l_1stWon  l_2ndWon l_SvGms  l_bpSaved  l_bpFaced  winner_rank  \\\n",
       "136756    40.0     32.0      22.0    13.0        5.0        8.0        110.0   \n",
       "24137      NaN      NaN       NaN     NaN        NaN        NaN         22.0   \n",
       "307        NaN      NaN       NaN     NaN        NaN        NaN          NaN   \n",
       "88308      NaN      NaN       NaN     NaN        NaN        NaN          7.0   \n",
       "90010     41.0     27.0      14.0     9.0       11.0       15.0         92.0   \n",
       "119400    99.0     60.0      18.0    19.0        9.0       14.0         58.0   \n",
       "3320       NaN      NaN       NaN     NaN        NaN        NaN          NaN   \n",
       "127209    48.0     31.0      17.0    10.0        8.0       10.0         27.0   \n",
       "90169     80.0     45.0       8.0    14.0       10.0       15.0        183.0   \n",
       "158655    37.0     26.0      12.0    12.0        3.0        8.0         95.0   \n",
       "\n",
       "       winner_rank_points loser_rank loser_rank_points  \n",
       "136756              386.0      157.0             267.0  \n",
       "24137                 NaN       23.0               NaN  \n",
       "307                   NaN        NaN               NaN  \n",
       "88308              1589.0       84.0             445.0  \n",
       "90010               405.0       59.0             530.0  \n",
       "119400              759.0      312.0             124.0  \n",
       "3320                  NaN        NaN               NaN  \n",
       "127209             1185.0       60.0             645.0  \n",
       "90169               183.0       35.0             798.0  \n",
       "158655              589.0      135.0             400.0  \n",
       "\n",
       "[10 rows x 49 columns]"
      ]
     },
     "execution_count": 6,
     "metadata": {},
     "output_type": "execute_result"
    }
   ],
   "source": [
    "combined_df.sample(10)"
   ]
  },
  {
   "cell_type": "markdown",
   "metadata": {},
   "source": [
    "## Изучение датасета"
   ]
  },
  {
   "cell_type": "code",
   "execution_count": 7,
   "metadata": {},
   "outputs": [],
   "source": [
    "df = combined_df.copy()"
   ]
  },
  {
   "cell_type": "code",
   "execution_count": 11,
   "metadata": {},
   "outputs": [
    {
     "name": "stdout",
     "output_type": "stream",
     "text": [
      "<class 'pandas.core.frame.DataFrame'>\n",
      "RangeIndex: 191920 entries, 0 to 191919\n",
      "Data columns (total 49 columns):\n",
      " #   Column              Non-Null Count   Dtype  \n",
      "---  ------              --------------   -----  \n",
      " 0   tourney_id          191920 non-null  object \n",
      " 1   tourney_name        191920 non-null  object \n",
      " 2   surface             188930 non-null  object \n",
      " 3   draw_size           191085 non-null  float64\n",
      " 4   tourney_level       191920 non-null  object \n",
      " 5   tourney_date        191920 non-null  int64  \n",
      " 6   match_num           191920 non-null  int64  \n",
      " 7   winner_id           191920 non-null  int64  \n",
      " 8   winner_seed         70926 non-null   float64\n",
      " 9   winner_entry        16743 non-null   object \n",
      " 10  winner_name         191920 non-null  object \n",
      " 11  winner_hand         191910 non-null  object \n",
      " 12  winner_ht           175012 non-null  float64\n",
      " 13  winner_ioc          191912 non-null  object \n",
      " 14  winner_age          190610 non-null  float64\n",
      " 15  loser_id            191920 non-null  int64  \n",
      " 16  loser_seed          36099 non-null   float64\n",
      " 17  loser_entry         28424 non-null   object \n",
      " 18  loser_name          191920 non-null  object \n",
      " 19  loser_hand          191871 non-null  object \n",
      " 20  loser_ht            162260 non-null  float64\n",
      " 21  loser_ioc           191848 non-null  object \n",
      " 22  loser_age           187266 non-null  float64\n",
      " 23  score               191911 non-null  object \n",
      " 24  best_of             191920 non-null  int64  \n",
      " 25  round               191920 non-null  object \n",
      " 26  minutes             92267 non-null   float64\n",
      " 27  w_ace               95035 non-null   float64\n",
      " 28  w_df                95034 non-null   float64\n",
      " 29  w_svpt              95034 non-null   float64\n",
      " 30  w_1stIn             95034 non-null   float64\n",
      " 31  w_1stWon            95034 non-null   float64\n",
      " 32  w_2ndWon            95034 non-null   float64\n",
      " 33  w_SvGms             95035 non-null   float64\n",
      " 34  w_bpSaved           95034 non-null   float64\n",
      " 35  w_bpFaced           95034 non-null   float64\n",
      " 36  l_ace               95034 non-null   float64\n",
      " 37  l_df                95035 non-null   float64\n",
      " 38  l_svpt              95034 non-null   float64\n",
      " 39  l_1stIn             95034 non-null   float64\n",
      " 40  l_1stWon            95034 non-null   float64\n",
      " 41  l_2ndWon            95034 non-null   float64\n",
      " 42  l_SvGms             95035 non-null   float64\n",
      " 43  l_bpSaved           95034 non-null   float64\n",
      " 44  l_bpFaced           95034 non-null   float64\n",
      " 45  winner_rank         156162 non-null  float64\n",
      " 46  winner_rank_points  108939 non-null  float64\n",
      " 47  loser_rank          147790 non-null  float64\n",
      " 48  loser_rank_points   107310 non-null  float64\n",
      "dtypes: float64(30), int64(5), object(14)\n",
      "memory usage: 71.7+ MB\n"
     ]
    }
   ],
   "source": [
    "# Вывод информации о датасете\n",
    "df.info()"
   ]
  },
  {
   "cell_type": "markdown",
   "metadata": {},
   "source": [
    "## Подготовка данных "
   ]
  },
  {
   "cell_type": "code",
   "execution_count": 12,
   "metadata": {},
   "outputs": [],
   "source": [
    "# Выделяем год из столбца даты турнира\n",
    "df['tourney_year'] = df['tourney_date'].apply(lambda x: int(str(x)[:4]))"
   ]
  },
  {
   "cell_type": "code",
   "execution_count": 13,
   "metadata": {},
   "outputs": [
    {
     "data": {
      "text/plain": [
       "tourney_id                 0\n",
       "tourney_name               0\n",
       "surface                 2990\n",
       "draw_size                835\n",
       "tourney_level              0\n",
       "tourney_date               0\n",
       "match_num                  0\n",
       "winner_id                  0\n",
       "winner_seed           120994\n",
       "winner_entry          175177\n",
       "winner_name                0\n",
       "winner_hand               10\n",
       "winner_ht              16908\n",
       "winner_ioc                 8\n",
       "winner_age              1310\n",
       "loser_id                   0\n",
       "loser_seed            155821\n",
       "loser_entry           163496\n",
       "loser_name                 0\n",
       "loser_hand                49\n",
       "loser_ht               29660\n",
       "loser_ioc                 72\n",
       "loser_age               4654\n",
       "score                      9\n",
       "best_of                    0\n",
       "round                      0\n",
       "minutes                99653\n",
       "w_ace                  96885\n",
       "w_df                   96886\n",
       "w_svpt                 96886\n",
       "w_1stIn                96886\n",
       "w_1stWon               96886\n",
       "w_2ndWon               96886\n",
       "w_SvGms                96885\n",
       "w_bpSaved              96886\n",
       "w_bpFaced              96886\n",
       "l_ace                  96886\n",
       "l_df                   96885\n",
       "l_svpt                 96886\n",
       "l_1stIn                96886\n",
       "l_1stWon               96886\n",
       "l_2ndWon               96886\n",
       "l_SvGms                96885\n",
       "l_bpSaved              96886\n",
       "l_bpFaced              96886\n",
       "winner_rank            35758\n",
       "winner_rank_points     82981\n",
       "loser_rank             44130\n",
       "loser_rank_points      84610\n",
       "tourney_year               0\n",
       "dtype: int64"
      ]
     },
     "execution_count": 13,
     "metadata": {},
     "output_type": "execute_result"
    }
   ],
   "source": [
    "# изучение пропусков\n",
    "df.isnull().sum()"
   ]
  },
  {
   "cell_type": "code",
   "execution_count": 14,
   "metadata": {},
   "outputs": [
    {
     "data": {
      "text/plain": [
       "4"
      ]
     },
     "execution_count": 14,
     "metadata": {},
     "output_type": "execute_result"
    }
   ],
   "source": [
    "# проверка на пропуски: целевая доля пропусков - 60%\n",
    "missing_value_threshold = 0.6\n",
    "columns_with_missing_values = df.columns[df.isnull()\n",
    "                                         .mean() > missing_value_threshold].tolist()\n",
    "len(columns_with_missing_values)\n",
    "# в датасете 25 колонок с пропусками более 60%"
   ]
  },
  {
   "cell_type": "code",
   "execution_count": 15,
   "metadata": {},
   "outputs": [],
   "source": [
    "# удаляем столбцы с пропусками более 60% из всех датасетов\n",
    "\n",
    "threshold = 0.6  # целевая доля - 60%\n",
    "cols_to_drop = df.columns[df.isnull().mean() > threshold]\n",
    "# Удаляем эти столбцы из датасета и перезаписываем в новый\n",
    "df_1 = df.drop(cols_to_drop, axis=1, inplace=False)"
   ]
  },
  {
   "cell_type": "code",
   "execution_count": 16,
   "metadata": {},
   "outputs": [
    {
     "name": "stdout",
     "output_type": "stream",
     "text": [
      "Дубликатов нет\n"
     ]
    }
   ],
   "source": [
    "# цикл по всем датасетам для поиска дубликатов\n",
    "dupl_columns = list(df_1.columns)\n",
    "# булевая маска для фильтрации, subset - список признаков, по которым идет поиск дубликатов\n",
    "mask = df_1.duplicated(subset=dupl_columns)\n",
    "# количество дубликатов в текущем датасете\n",
    "num_duplicates = df_1[mask].shape[0]\n",
    "if num_duplicates == 0:\n",
    "    print(\"Дубликатов нет\")"
   ]
  },
  {
   "cell_type": "code",
   "execution_count": 17,
   "metadata": {},
   "outputs": [],
   "source": [
    "# Удаление строк, где winner_rank или loser_rank являются NaN\n",
    "df_1 = df_1.dropna(subset=['winner_rank', 'loser_rank'])"
   ]
  },
  {
   "cell_type": "markdown",
   "metadata": {},
   "source": [
    "## Задание 1\n",
    "\n",
    "Вы хотите узнать, как много значит ранг игрока в теннисе. Проверьте следующие утверждения:"
   ]
  },
  {
   "cell_type": "markdown",
   "metadata": {},
   "source": [
    "а) Если ранг игрока выше более, чем на 20 позиций, то в среднем он будет выигрывать с большей вероятностью. (Если хотите проверить статистически — формируйте выборку как отклонение от ожидаемого количества побед при случайном исходе);"
   ]
  },
  {
   "cell_type": "code",
   "execution_count": 18,
   "metadata": {},
   "outputs": [],
   "source": [
    "df1 = df_1.copy()"
   ]
  },
  {
   "cell_type": "code",
   "execution_count": 19,
   "metadata": {},
   "outputs": [],
   "source": [
    "# Выделяем только нужные признаки\n",
    "df1 = df1[['winner_id', 'winner_rank', 'loser_id', 'loser_rank']]\n",
    "\n",
    "# Создаем выборки по заданным критериям (раг отличается больше и меньше чем на 20 позиций)\n",
    "more20 = df1[abs(df1['winner_rank'] - df1['loser_rank']) > 20]\n",
    "less20 = df1[abs(df1['winner_rank'] - df1['loser_rank']) <= 20]"
   ]
  },
  {
   "cell_type": "code",
   "execution_count": 20,
   "metadata": {},
   "outputs": [
    {
     "data": {
      "text/html": [
       "<div>\n",
       "<style scoped>\n",
       "    .dataframe tbody tr th:only-of-type {\n",
       "        vertical-align: middle;\n",
       "    }\n",
       "\n",
       "    .dataframe tbody tr th {\n",
       "        vertical-align: top;\n",
       "    }\n",
       "\n",
       "    .dataframe thead th {\n",
       "        text-align: right;\n",
       "    }\n",
       "</style>\n",
       "<table border=\"1\" class=\"dataframe\">\n",
       "  <thead>\n",
       "    <tr style=\"text-align: right;\">\n",
       "      <th></th>\n",
       "      <th>winner_id</th>\n",
       "      <th>winner_rank</th>\n",
       "      <th>loser_id</th>\n",
       "      <th>loser_rank</th>\n",
       "    </tr>\n",
       "  </thead>\n",
       "  <tbody>\n",
       "    <tr>\n",
       "      <th>18086</th>\n",
       "      <td>100119</td>\n",
       "      <td>1.0</td>\n",
       "      <td>100129</td>\n",
       "      <td>88.0</td>\n",
       "    </tr>\n",
       "    <tr>\n",
       "      <th>18087</th>\n",
       "      <td>100304</td>\n",
       "      <td>193.0</td>\n",
       "      <td>100067</td>\n",
       "      <td>71.0</td>\n",
       "    </tr>\n",
       "    <tr>\n",
       "      <th>18088</th>\n",
       "      <td>100135</td>\n",
       "      <td>39.0</td>\n",
       "      <td>100376</td>\n",
       "      <td>118.0</td>\n",
       "    </tr>\n",
       "  </tbody>\n",
       "</table>\n",
       "</div>"
      ],
      "text/plain": [
       "       winner_id  winner_rank  loser_id  loser_rank\n",
       "18086     100119          1.0    100129        88.0\n",
       "18087     100304        193.0    100067        71.0\n",
       "18088     100135         39.0    100376       118.0"
      ]
     },
     "execution_count": 20,
     "metadata": {},
     "output_type": "execute_result"
    }
   ],
   "source": [
    "more20.head(3)"
   ]
  },
  {
   "cell_type": "code",
   "execution_count": 21,
   "metadata": {},
   "outputs": [
    {
     "data": {
      "text/html": [
       "<div>\n",
       "<style scoped>\n",
       "    .dataframe tbody tr th:only-of-type {\n",
       "        vertical-align: middle;\n",
       "    }\n",
       "\n",
       "    .dataframe tbody tr th {\n",
       "        vertical-align: top;\n",
       "    }\n",
       "\n",
       "    .dataframe thead th {\n",
       "        text-align: right;\n",
       "    }\n",
       "</style>\n",
       "<table border=\"1\" class=\"dataframe\">\n",
       "  <thead>\n",
       "    <tr style=\"text-align: right;\">\n",
       "      <th></th>\n",
       "      <th>id</th>\n",
       "      <th>wins</th>\n",
       "    </tr>\n",
       "  </thead>\n",
       "  <tbody>\n",
       "    <tr>\n",
       "      <th>0</th>\n",
       "      <td>103819</td>\n",
       "      <td>821</td>\n",
       "    </tr>\n",
       "    <tr>\n",
       "      <th>1</th>\n",
       "      <td>104745</td>\n",
       "      <td>694</td>\n",
       "    </tr>\n",
       "    <tr>\n",
       "      <th>2</th>\n",
       "      <td>104925</td>\n",
       "      <td>661</td>\n",
       "    </tr>\n",
       "  </tbody>\n",
       "</table>\n",
       "</div>"
      ],
      "text/plain": [
       "       id  wins\n",
       "0  103819   821\n",
       "1  104745   694\n",
       "2  104925   661"
      ]
     },
     "execution_count": 21,
     "metadata": {},
     "output_type": "execute_result"
    }
   ],
   "source": [
    "# Считаем количество побед в первой выборке\n",
    "more20_wins = more20['winner_id'].value_counts().reset_index()\n",
    "more20_wins.rename(columns={'winner_id': 'id', 'count': 'wins'}, inplace=True)\n",
    "more20_wins.head(3)"
   ]
  },
  {
   "cell_type": "code",
   "execution_count": 22,
   "metadata": {},
   "outputs": [
    {
     "data": {
      "text/html": [
       "<div>\n",
       "<style scoped>\n",
       "    .dataframe tbody tr th:only-of-type {\n",
       "        vertical-align: middle;\n",
       "    }\n",
       "\n",
       "    .dataframe tbody tr th {\n",
       "        vertical-align: top;\n",
       "    }\n",
       "\n",
       "    .dataframe thead th {\n",
       "        text-align: right;\n",
       "    }\n",
       "</style>\n",
       "<table border=\"1\" class=\"dataframe\">\n",
       "  <thead>\n",
       "    <tr style=\"text-align: right;\">\n",
       "      <th></th>\n",
       "      <th>id</th>\n",
       "      <th>loses</th>\n",
       "    </tr>\n",
       "  </thead>\n",
       "  <tbody>\n",
       "    <tr>\n",
       "      <th>0</th>\n",
       "      <td>103852</td>\n",
       "      <td>304</td>\n",
       "    </tr>\n",
       "    <tr>\n",
       "      <th>1</th>\n",
       "      <td>102148</td>\n",
       "      <td>303</td>\n",
       "    </tr>\n",
       "    <tr>\n",
       "      <th>2</th>\n",
       "      <td>104312</td>\n",
       "      <td>287</td>\n",
       "    </tr>\n",
       "  </tbody>\n",
       "</table>\n",
       "</div>"
      ],
      "text/plain": [
       "       id  loses\n",
       "0  103852    304\n",
       "1  102148    303\n",
       "2  104312    287"
      ]
     },
     "execution_count": 22,
     "metadata": {},
     "output_type": "execute_result"
    }
   ],
   "source": [
    "# Считаем количество проигрышей в первой выборке\n",
    "more20_loses = more20['loser_id'].value_counts().reset_index()\n",
    "more20_loses.rename(columns={'loser_id': 'id', 'count': 'loses'}, inplace=True)\n",
    "more20_loses.head(3)"
   ]
  },
  {
   "cell_type": "code",
   "execution_count": 23,
   "metadata": {},
   "outputs": [
    {
     "name": "stderr",
     "output_type": "stream",
     "text": [
      "C:\\Users\\Екатерина\\AppData\\Local\\Temp\\ipykernel_13368\\2619386588.py:5: FutureWarning: A value is trying to be set on a copy of a DataFrame or Series through chained assignment using an inplace method.\n",
      "The behavior will change in pandas 3.0. This inplace method will never work because the intermediate object on which we are setting values always behaves as a copy.\n",
      "\n",
      "For example, when doing 'df[col].method(value, inplace=True)', try using 'df.method({col: value}, inplace=True)' or df[col] = df[col].method(value) instead, to perform the operation inplace on the original object.\n",
      "\n",
      "\n",
      "  combined_more20['wins'].fillna(0, inplace=True)\n",
      "C:\\Users\\Екатерина\\AppData\\Local\\Temp\\ipykernel_13368\\2619386588.py:6: FutureWarning: A value is trying to be set on a copy of a DataFrame or Series through chained assignment using an inplace method.\n",
      "The behavior will change in pandas 3.0. This inplace method will never work because the intermediate object on which we are setting values always behaves as a copy.\n",
      "\n",
      "For example, when doing 'df[col].method(value, inplace=True)', try using 'df.method({col: value}, inplace=True)' or df[col] = df[col].method(value) instead, to perform the operation inplace on the original object.\n",
      "\n",
      "\n",
      "  combined_more20['loses'].fillna(0, inplace=True)\n"
     ]
    },
    {
     "data": {
      "text/html": [
       "<div>\n",
       "<style scoped>\n",
       "    .dataframe tbody tr th:only-of-type {\n",
       "        vertical-align: middle;\n",
       "    }\n",
       "\n",
       "    .dataframe tbody tr th {\n",
       "        vertical-align: top;\n",
       "    }\n",
       "\n",
       "    .dataframe thead th {\n",
       "        text-align: right;\n",
       "    }\n",
       "</style>\n",
       "<table border=\"1\" class=\"dataframe\">\n",
       "  <thead>\n",
       "    <tr style=\"text-align: right;\">\n",
       "      <th></th>\n",
       "      <th>id</th>\n",
       "      <th>wins</th>\n",
       "      <th>loses</th>\n",
       "      <th>total</th>\n",
       "      <th>expected_wins</th>\n",
       "      <th>deviation</th>\n",
       "      <th>more20</th>\n",
       "    </tr>\n",
       "  </thead>\n",
       "  <tbody>\n",
       "    <tr>\n",
       "      <th>0</th>\n",
       "      <td>100003</td>\n",
       "      <td>1.0</td>\n",
       "      <td>2.0</td>\n",
       "      <td>3.0</td>\n",
       "      <td>1.5</td>\n",
       "      <td>-0.5</td>\n",
       "      <td>1</td>\n",
       "    </tr>\n",
       "    <tr>\n",
       "      <th>1</th>\n",
       "      <td>100005</td>\n",
       "      <td>1.0</td>\n",
       "      <td>2.0</td>\n",
       "      <td>3.0</td>\n",
       "      <td>1.5</td>\n",
       "      <td>-0.5</td>\n",
       "      <td>1</td>\n",
       "    </tr>\n",
       "    <tr>\n",
       "      <th>2</th>\n",
       "      <td>100006</td>\n",
       "      <td>0.0</td>\n",
       "      <td>1.0</td>\n",
       "      <td>1.0</td>\n",
       "      <td>0.5</td>\n",
       "      <td>-0.5</td>\n",
       "      <td>1</td>\n",
       "    </tr>\n",
       "    <tr>\n",
       "      <th>3</th>\n",
       "      <td>100011</td>\n",
       "      <td>3.0</td>\n",
       "      <td>17.0</td>\n",
       "      <td>20.0</td>\n",
       "      <td>10.0</td>\n",
       "      <td>-7.0</td>\n",
       "      <td>1</td>\n",
       "    </tr>\n",
       "    <tr>\n",
       "      <th>4</th>\n",
       "      <td>100013</td>\n",
       "      <td>1.0</td>\n",
       "      <td>4.0</td>\n",
       "      <td>5.0</td>\n",
       "      <td>2.5</td>\n",
       "      <td>-1.5</td>\n",
       "      <td>1</td>\n",
       "    </tr>\n",
       "  </tbody>\n",
       "</table>\n",
       "</div>"
      ],
      "text/plain": [
       "       id  wins  loses  total  expected_wins  deviation  more20\n",
       "0  100003   1.0    2.0    3.0            1.5       -0.5       1\n",
       "1  100005   1.0    2.0    3.0            1.5       -0.5       1\n",
       "2  100006   0.0    1.0    1.0            0.5       -0.5       1\n",
       "3  100011   3.0   17.0   20.0           10.0       -7.0       1\n",
       "4  100013   1.0    4.0    5.0            2.5       -1.5       1"
      ]
     },
     "execution_count": 23,
     "metadata": {},
     "output_type": "execute_result"
    }
   ],
   "source": [
    "# Объединяем датасеты по столбцу id и считаем общее кол-во игр, ожидаемое кол-во побед (общее кол-во игр * 0.5),\n",
    "# отклонение от фактического от ожидаемого кол-во побед\n",
    "# столбец more20 для обозначения разницы в ранге более 20 ((1 - разнца больше 20))\n",
    "combined_more20 = pd.merge(more20_wins, more20_loses, on='id', how='outer')\n",
    "combined_more20['wins'].fillna(0, inplace=True)\n",
    "combined_more20['loses'].fillna(0, inplace=True)\n",
    "combined_more20['total'] = combined_more20['wins'] + combined_more20['loses']\n",
    "combined_more20['expected_wins'] = combined_more20['total'] * 0.5\n",
    "combined_more20['deviation'] = combined_more20['wins'] - \\\n",
    "    combined_more20['expected_wins']\n",
    "combined_more20['more20'] = 1\n",
    "combined_more20.head()"
   ]
  },
  {
   "cell_type": "code",
   "execution_count": 24,
   "metadata": {},
   "outputs": [
    {
     "data": {
      "text/html": [
       "<div>\n",
       "<style scoped>\n",
       "    .dataframe tbody tr th:only-of-type {\n",
       "        vertical-align: middle;\n",
       "    }\n",
       "\n",
       "    .dataframe tbody tr th {\n",
       "        vertical-align: top;\n",
       "    }\n",
       "\n",
       "    .dataframe thead th {\n",
       "        text-align: right;\n",
       "    }\n",
       "</style>\n",
       "<table border=\"1\" class=\"dataframe\">\n",
       "  <thead>\n",
       "    <tr style=\"text-align: right;\">\n",
       "      <th></th>\n",
       "      <th>id</th>\n",
       "      <th>wins</th>\n",
       "    </tr>\n",
       "  </thead>\n",
       "  <tbody>\n",
       "    <tr>\n",
       "      <th>0</th>\n",
       "      <td>103819</td>\n",
       "      <td>441</td>\n",
       "    </tr>\n",
       "    <tr>\n",
       "      <th>1</th>\n",
       "      <td>104925</td>\n",
       "      <td>437</td>\n",
       "    </tr>\n",
       "    <tr>\n",
       "      <th>2</th>\n",
       "      <td>104745</td>\n",
       "      <td>385</td>\n",
       "    </tr>\n",
       "  </tbody>\n",
       "</table>\n",
       "</div>"
      ],
      "text/plain": [
       "       id  wins\n",
       "0  103819   441\n",
       "1  104925   437\n",
       "2  104745   385"
      ]
     },
     "execution_count": 24,
     "metadata": {},
     "output_type": "execute_result"
    }
   ],
   "source": [
    "# Считаем количество выигрышей во второй выборке\n",
    "less20_wins = less20['winner_id'].value_counts().reset_index()\n",
    "less20_wins.rename(columns={'winner_id': 'id', 'count': 'wins'}, inplace=True)\n",
    "less20_wins.head(3)"
   ]
  },
  {
   "cell_type": "code",
   "execution_count": 25,
   "metadata": {},
   "outputs": [
    {
     "data": {
      "text/html": [
       "<div>\n",
       "<style scoped>\n",
       "    .dataframe tbody tr th:only-of-type {\n",
       "        vertical-align: middle;\n",
       "    }\n",
       "\n",
       "    .dataframe tbody tr th {\n",
       "        vertical-align: top;\n",
       "    }\n",
       "\n",
       "    .dataframe thead th {\n",
       "        text-align: right;\n",
       "    }\n",
       "</style>\n",
       "<table border=\"1\" class=\"dataframe\">\n",
       "  <thead>\n",
       "    <tr style=\"text-align: right;\">\n",
       "      <th></th>\n",
       "      <th>id</th>\n",
       "      <th>loses</th>\n",
       "    </tr>\n",
       "  </thead>\n",
       "  <tbody>\n",
       "    <tr>\n",
       "      <th>0</th>\n",
       "      <td>104607</td>\n",
       "      <td>200</td>\n",
       "    </tr>\n",
       "    <tr>\n",
       "      <th>1</th>\n",
       "      <td>103852</td>\n",
       "      <td>188</td>\n",
       "    </tr>\n",
       "    <tr>\n",
       "      <th>2</th>\n",
       "      <td>103970</td>\n",
       "      <td>188</td>\n",
       "    </tr>\n",
       "  </tbody>\n",
       "</table>\n",
       "</div>"
      ],
      "text/plain": [
       "       id  loses\n",
       "0  104607    200\n",
       "1  103852    188\n",
       "2  103970    188"
      ]
     },
     "execution_count": 25,
     "metadata": {},
     "output_type": "execute_result"
    }
   ],
   "source": [
    "# Считаем количество проигрышей во второй выборке\n",
    "less20_loses = less20['loser_id'].value_counts().reset_index()\n",
    "less20_loses.rename(columns={'loser_id': 'id', 'count': 'loses'}, inplace=True)\n",
    "less20_loses.head(3)"
   ]
  },
  {
   "cell_type": "code",
   "execution_count": 26,
   "metadata": {},
   "outputs": [
    {
     "name": "stderr",
     "output_type": "stream",
     "text": [
      "C:\\Users\\Екатерина\\AppData\\Local\\Temp\\ipykernel_13368\\2127005291.py:5: FutureWarning: A value is trying to be set on a copy of a DataFrame or Series through chained assignment using an inplace method.\n",
      "The behavior will change in pandas 3.0. This inplace method will never work because the intermediate object on which we are setting values always behaves as a copy.\n",
      "\n",
      "For example, when doing 'df[col].method(value, inplace=True)', try using 'df.method({col: value}, inplace=True)' or df[col] = df[col].method(value) instead, to perform the operation inplace on the original object.\n",
      "\n",
      "\n",
      "  combined_less20['wins'].fillna(0, inplace=True)\n",
      "C:\\Users\\Екатерина\\AppData\\Local\\Temp\\ipykernel_13368\\2127005291.py:6: FutureWarning: A value is trying to be set on a copy of a DataFrame or Series through chained assignment using an inplace method.\n",
      "The behavior will change in pandas 3.0. This inplace method will never work because the intermediate object on which we are setting values always behaves as a copy.\n",
      "\n",
      "For example, when doing 'df[col].method(value, inplace=True)', try using 'df.method({col: value}, inplace=True)' or df[col] = df[col].method(value) instead, to perform the operation inplace on the original object.\n",
      "\n",
      "\n",
      "  combined_less20['loses'].fillna(0, inplace=True)\n"
     ]
    },
    {
     "data": {
      "text/html": [
       "<div>\n",
       "<style scoped>\n",
       "    .dataframe tbody tr th:only-of-type {\n",
       "        vertical-align: middle;\n",
       "    }\n",
       "\n",
       "    .dataframe tbody tr th {\n",
       "        vertical-align: top;\n",
       "    }\n",
       "\n",
       "    .dataframe thead th {\n",
       "        text-align: right;\n",
       "    }\n",
       "</style>\n",
       "<table border=\"1\" class=\"dataframe\">\n",
       "  <thead>\n",
       "    <tr style=\"text-align: right;\">\n",
       "      <th></th>\n",
       "      <th>id</th>\n",
       "      <th>wins</th>\n",
       "      <th>loses</th>\n",
       "      <th>total</th>\n",
       "      <th>expected_wins</th>\n",
       "      <th>deviation</th>\n",
       "      <th>more20</th>\n",
       "    </tr>\n",
       "  </thead>\n",
       "  <tbody>\n",
       "    <tr>\n",
       "      <th>0</th>\n",
       "      <td>100011</td>\n",
       "      <td>1.0</td>\n",
       "      <td>2.0</td>\n",
       "      <td>3.0</td>\n",
       "      <td>1.5</td>\n",
       "      <td>-0.5</td>\n",
       "      <td>0</td>\n",
       "    </tr>\n",
       "    <tr>\n",
       "      <th>1</th>\n",
       "      <td>100016</td>\n",
       "      <td>29.0</td>\n",
       "      <td>41.0</td>\n",
       "      <td>70.0</td>\n",
       "      <td>35.0</td>\n",
       "      <td>-6.0</td>\n",
       "      <td>0</td>\n",
       "    </tr>\n",
       "    <tr>\n",
       "      <th>2</th>\n",
       "      <td>100017</td>\n",
       "      <td>0.0</td>\n",
       "      <td>1.0</td>\n",
       "      <td>1.0</td>\n",
       "      <td>0.5</td>\n",
       "      <td>-0.5</td>\n",
       "      <td>0</td>\n",
       "    </tr>\n",
       "    <tr>\n",
       "      <th>3</th>\n",
       "      <td>100022</td>\n",
       "      <td>6.0</td>\n",
       "      <td>5.0</td>\n",
       "      <td>11.0</td>\n",
       "      <td>5.5</td>\n",
       "      <td>0.5</td>\n",
       "      <td>0</td>\n",
       "    </tr>\n",
       "    <tr>\n",
       "      <th>4</th>\n",
       "      <td>100024</td>\n",
       "      <td>2.0</td>\n",
       "      <td>1.0</td>\n",
       "      <td>3.0</td>\n",
       "      <td>1.5</td>\n",
       "      <td>0.5</td>\n",
       "      <td>0</td>\n",
       "    </tr>\n",
       "  </tbody>\n",
       "</table>\n",
       "</div>"
      ],
      "text/plain": [
       "       id  wins  loses  total  expected_wins  deviation  more20\n",
       "0  100011   1.0    2.0    3.0            1.5       -0.5       0\n",
       "1  100016  29.0   41.0   70.0           35.0       -6.0       0\n",
       "2  100017   0.0    1.0    1.0            0.5       -0.5       0\n",
       "3  100022   6.0    5.0   11.0            5.5        0.5       0\n",
       "4  100024   2.0    1.0    3.0            1.5        0.5       0"
      ]
     },
     "execution_count": 26,
     "metadata": {},
     "output_type": "execute_result"
    }
   ],
   "source": [
    "# Объединяем датасеты по столбцу id и считаем общее кол-во игр, ожидаемое кол-во побед (общее кол-во игр * 0.5),\n",
    "# отклонение от фактического от ожидаемого кол-во побед\n",
    "# столбец more20 для обозначения разницы в ранге более 20 (0 - разнца меньше 20)\n",
    "combined_less20 = pd.merge(less20_wins, less20_loses, on='id', how='outer')\n",
    "combined_less20['wins'].fillna(0, inplace=True)\n",
    "combined_less20['loses'].fillna(0, inplace=True)\n",
    "combined_less20['total'] = combined_less20['wins'] + combined_less20['loses']\n",
    "combined_less20['expected_wins'] = combined_less20['total'] * 0.5\n",
    "combined_less20['deviation'] = combined_less20['wins'] - \\\n",
    "    combined_less20['expected_wins']\n",
    "combined_less20['more20'] = 0\n",
    "combined_less20.head()"
   ]
  },
  {
   "cell_type": "code",
   "execution_count": 27,
   "metadata": {},
   "outputs": [],
   "source": [
    "# Расчет среднего отклонения в выборках\n",
    "# Функция принимает на вход столбец датасета - df_col, по которому рассчитывается отклонение\n",
    "\n",
    "def deviation_function(df_col):\n",
    "    mean = np.mean(df_col)\n",
    "    absolute_deviations = np.absolute(df_col - mean)\n",
    "    mean_absolute_deviation = np.mean(absolute_deviations)\n",
    "    return round(mean_absolute_deviation, 3)"
   ]
  },
  {
   "cell_type": "code",
   "execution_count": 28,
   "metadata": {},
   "outputs": [
    {
     "name": "stdout",
     "output_type": "stream",
     "text": [
      "Среднее отклонение в первой выборке: 7.228\n",
      "Среднее отклонение во второй выборке: 2.967\n"
     ]
    }
   ],
   "source": [
    "print(\n",
    "    f'Среднее отклонение в первой выборке: {deviation_function(combined_more20[\"deviation\"])}')\n",
    "\n",
    "print(\n",
    "    f'Среднее отклонение во второй выборке: {deviation_function(combined_less20[\"deviation\"])}')"
   ]
  },
  {
   "cell_type": "markdown",
   "metadata": {},
   "source": [
    "Среднее отклонение в первой выборке превышает таковое во второй выборке "
   ]
  },
  {
   "cell_type": "code",
   "execution_count": 29,
   "metadata": {},
   "outputs": [
    {
     "name": "stderr",
     "output_type": "stream",
     "text": [
      "No artists with labels found to put in legend.  Note that artists whose label start with an underscore are ignored when legend() is called with no argument.\n"
     ]
    },
    {
     "data": {
      "image/png": "[encoded data removed]",
      "text/plain": [
       "<Figure size 640x480 with 1 Axes>"
      ]
     },
     "metadata": {},
     "output_type": "display_data"
    }
   ],
   "source": [
    "# Построение гистограммы для lower_rank_players\n",
    "plt.hist(combined_more20['deviation'], bins=20, alpha=0.5)\n",
    "plt.hist(combined_less20['deviation'], bins=20, alpha=0.5)\n",
    "\n",
    "plt.xlabel('Deviation')\n",
    "plt.ylabel('Frequency')\n",
    "plt.title('Distribution of Deviation')\n",
    "plt.legend()\n",
    "\n",
    "plt.show()"
   ]
  },
  {
   "cell_type": "code",
   "execution_count": 30,
   "metadata": {},
   "outputs": [
    {
     "data": {
      "image/png": "[encoded data removed]",
      "text/plain": [
       "<Figure size 1000x500 with 2 Axes>"
      ]
     },
     "metadata": {},
     "output_type": "display_data"
    }
   ],
   "source": [
    "# Построение линейного графика\n",
    "plt.figure(figsize=(10, 5))\n",
    "\n",
    "plt.subplot(1, 2, 1)\n",
    "stats.probplot(combined_more20['deviation'], dist=\"norm\", plot=plt)\n",
    "plt.title('QQ plot для первой выборки')\n",
    "\n",
    "plt.subplot(1, 2, 2)\n",
    "stats.probplot(combined_less20['deviation'], dist=\"norm\", plot=plt)\n",
    "plt.title('QQ plot для второй выборки')\n",
    "\n",
    "plt.show()"
   ]
  },
  {
   "cell_type": "code",
   "execution_count": 31,
   "metadata": {},
   "outputs": [
    {
     "data": {
      "image/png": "[encoded data removed]",
      "text/plain": [
       "<Figure size 2000x400 with 2 Axes>"
      ]
     },
     "metadata": {},
     "output_type": "display_data"
    }
   ],
   "source": [
    "# Построение графика боксплот\n",
    "\n",
    "fig, (ax1, ax2) = plt.subplots(1, 2, figsize=(20, 4))\n",
    "sns.boxplot(x='deviation', data=combined_more20, ax=ax1, showfliers=False)\n",
    "ax1.set_title('Boxplot для первой выборки')\n",
    "sns.boxplot(x='deviation', data=combined_less20, ax=ax2, showfliers=False)\n",
    "ax2.set_title('Boxplot для второй выборки')\n",
    "\n",
    "plt.show()"
   ]
  },
  {
   "cell_type": "code",
   "execution_count": 32,
   "metadata": {},
   "outputs": [],
   "source": [
    "# тест на нормальность\n",
    "# Создаем функцию для определения нормальности распределния данных на основе теста Шапиро-Уилка\n",
    "# Функция прининимает на вход датафрейм, столбец и значение альфа, которое по дефолту равно 0.05\n",
    "\n",
    "def shapiro_test_function(dataframe, col, alpha=0.05):\n",
    "    H_0 = 'Данные распределены нормально'\n",
    "    H_1 = 'Данные распределены не нормально'\n",
    "    _, p = shapiro(dataframe[col])\n",
    "    print(f'alpha = {alpha}')\n",
    "    print('p=%.5f' % p)\n",
    "    if p > alpha:\n",
    "        print(H_0)\n",
    "    else:\n",
    "        print(f'Мы отвергаем нулевую гипотезу.{H_1}')"
   ]
  },
  {
   "cell_type": "code",
   "execution_count": 33,
   "metadata": {},
   "outputs": [
    {
     "name": "stdout",
     "output_type": "stream",
     "text": [
      "alpha = 0.05\n",
      "p=0.00000\n",
      "Мы отвергаем нулевую гипотезу.Данные распределены не нормально\n"
     ]
    }
   ],
   "source": [
    "shapiro_test_function(combined_more20, 'deviation')"
   ]
  },
  {
   "cell_type": "code",
   "execution_count": 34,
   "metadata": {},
   "outputs": [
    {
     "name": "stdout",
     "output_type": "stream",
     "text": [
      "alpha = 0.05\n",
      "p=0.00000\n",
      "Мы отвергаем нулевую гипотезу.Данные распределены не нормально\n"
     ]
    }
   ],
   "source": [
    "shapiro_test_function(combined_less20, 'deviation')"
   ]
  },
  {
   "cell_type": "markdown",
   "metadata": {},
   "source": [
    "Тест подтверждает, что данные в обеих выборках распределены не нормально"
   ]
  },
  {
   "cell_type": "markdown",
   "metadata": {},
   "source": [
    "Для проведения статистичского теста выбираем непараметрический тест Манна-Уитни, так как данные распределеные ненормально (тест Шапиро-Уилка) и две выборки по сути являются независимыми (нет пересекающихся игроков).\n",
    "\n",
    "[Тест Манна-Уитни](https://docs.scipy.org/doc/scipy/reference/generated/scipy.stats.mannwhitneyu.html). \n",
    "\n",
    "Тест применяется для оценки различий между двумя независимыми группами, подходит для использования с данными, которые не являются нормально распределенными, и когда данные являются порядковыми (ранговыми) или по крайней мере могут быть упорядочены."
   ]
  },
  {
   "cell_type": "code",
   "execution_count": 35,
   "metadata": {},
   "outputs": [],
   "source": [
    "# тест Манна-Уитни на определение статистической значимости\n",
    "# Создаем функцию на основе теста  Манна-Уитни\n",
    "# Функция прининимает на вход два датафрейма, столбец, значение альфа, которое по дефолту равно 0.05 и вид параметра alternative\n",
    "# парамтер alternative в тесте Манна-Уитни может принимать следующие значения: 'two-sided' (по дефолту), 'less', 'greater'\n",
    "\n",
    "def mannwhitneyu_function(dataframe_1, dataframe_2, col, alpha=0.05, alternative_hyp='two-sided'):\n",
    "    _, p_value = mannwhitneyu(\n",
    "        dataframe_1[col], dataframe_2[col], alternative=alternative_hyp)\n",
    "    print(f'alpha = {alpha}')\n",
    "    print(f'alternative = {alternative_hyp}')\n",
    "    print('p-value =', round(p_value, 5))\n",
    "    if (p_value < alpha):\n",
    "        print(\"Отвергаем нулевую гипотезу.\")\n",
    "        print(f'Альтернативная гипотеза. H1: {H1}')\n",
    "    else:\n",
    "        print(f'Принимаем нулевую гипотезу. {H0}')"
   ]
  },
  {
   "cell_type": "code",
   "execution_count": 36,
   "metadata": {},
   "outputs": [
    {
     "name": "stdout",
     "output_type": "stream",
     "text": [
      "alpha = 0.025\n",
      "alternative = greater\n",
      "p-value = 1.0\n",
      "Принимаем нулевую гипотезу. Средние отклонения в двух выборках равны \n"
     ]
    }
   ],
   "source": [
    "# Формулирование гипотез: нулевая и альтернативная\n",
    "H0 = 'Средние отклонения в двух выборках равны '\n",
    "H1 = 'Среднее отклонение в выборке с различием в ранге больше 20 значимо больше'\n",
    "\n",
    "# односторонняя гипотеза: 0.05/2=0.025\n",
    "alpha = 0.025\n",
    "\n",
    "mannwhitneyu_function(combined_more20, combined_less20,\n",
    "                      'deviation', alpha, alternative_hyp='greater')"
   ]
  },
  {
   "cell_type": "markdown",
   "metadata": {},
   "source": [
    "Таким образом, по результатам статистического теста мы установили, что игроки с разностью в ранге более 20 выигрывают статистически также часто, как и игроки с меньшей разностью в ранге. Разница в рейтинге игроков не влияет на победу. "
   ]
  },
  {
   "cell_type": "markdown",
   "metadata": {},
   "source": [
    "б) Если ранг игрока находится в окне +-5 позиций, то вероятность победы будет значительно отличаться от гипотезы из предыдущего случая. Для проверки статистической значимости выборку можно сделать как среднее по годам (например, с 1980 по 2022г.). Подумайте, как правильно сформировать репрезентативную выборку."
   ]
  },
  {
   "cell_type": "code",
   "execution_count": 37,
   "metadata": {},
   "outputs": [],
   "source": [
    "# оставляем турниры только с 1980 по 2022 год\n",
    "filtered_df1 = df_1[(df_1['tourney_year'] >= 1980) &\n",
    "                    (df_1['tourney_year'] <= 2022)]"
   ]
  },
  {
   "cell_type": "code",
   "execution_count": 38,
   "metadata": {},
   "outputs": [],
   "source": [
    "# Создем выборки с различиями в рангах менее 5 и более 20 и создаем соответствующие датасеты.\n",
    "less5 = filtered_df1[abs(filtered_df1['winner_rank'] -\n",
    "                         filtered_df1['loser_rank']) < 6]\n",
    "more20 = filtered_df1[abs(filtered_df1['winner_rank'] -\n",
    "                          filtered_df1['loser_rank']) > 20]\n",
    "\n",
    "# оставляем только необходимые столбцы\n",
    "less5 = less5[['tourney_year', 'winner_id', 'loser_id']]\n",
    "more20 = more20[['tourney_year', 'winner_id', 'loser_id',]]"
   ]
  },
  {
   "cell_type": "code",
   "execution_count": 39,
   "metadata": {},
   "outputs": [
    {
     "data": {
      "text/html": [
       "<div>\n",
       "<style scoped>\n",
       "    .dataframe tbody tr th:only-of-type {\n",
       "        vertical-align: middle;\n",
       "    }\n",
       "\n",
       "    .dataframe tbody tr th {\n",
       "        vertical-align: top;\n",
       "    }\n",
       "\n",
       "    .dataframe thead th {\n",
       "        text-align: right;\n",
       "    }\n",
       "</style>\n",
       "<table border=\"1\" class=\"dataframe\">\n",
       "  <thead>\n",
       "    <tr style=\"text-align: right;\">\n",
       "      <th></th>\n",
       "      <th>tourney_year</th>\n",
       "      <th>winner_id</th>\n",
       "      <th>loser_id</th>\n",
       "    </tr>\n",
       "  </thead>\n",
       "  <tbody>\n",
       "    <tr>\n",
       "      <th>46769</th>\n",
       "      <td>1980</td>\n",
       "      <td>100297</td>\n",
       "      <td>100199</td>\n",
       "    </tr>\n",
       "    <tr>\n",
       "      <th>46772</th>\n",
       "      <td>1980</td>\n",
       "      <td>100434</td>\n",
       "      <td>100367</td>\n",
       "    </tr>\n",
       "    <tr>\n",
       "      <th>46796</th>\n",
       "      <td>1980</td>\n",
       "      <td>100434</td>\n",
       "      <td>100536</td>\n",
       "    </tr>\n",
       "    <tr>\n",
       "      <th>46797</th>\n",
       "      <td>1980</td>\n",
       "      <td>100383</td>\n",
       "      <td>100185</td>\n",
       "    </tr>\n",
       "    <tr>\n",
       "      <th>46860</th>\n",
       "      <td>1980</td>\n",
       "      <td>100091</td>\n",
       "      <td>100515</td>\n",
       "    </tr>\n",
       "  </tbody>\n",
       "</table>\n",
       "</div>"
      ],
      "text/plain": [
       "       tourney_year  winner_id  loser_id\n",
       "46769          1980     100297    100199\n",
       "46772          1980     100434    100367\n",
       "46796          1980     100434    100536\n",
       "46797          1980     100383    100185\n",
       "46860          1980     100091    100515"
      ]
     },
     "execution_count": 39,
     "metadata": {},
     "output_type": "execute_result"
    }
   ],
   "source": [
    "more20.head()"
   ]
  },
  {
   "cell_type": "code",
   "execution_count": 40,
   "metadata": {},
   "outputs": [],
   "source": [
    "# Группировка по году и id с подсчетом количества побед для каждого игрока\n",
    "sample_less5 = less5.groupby(['winner_id', 'tourney_year']).agg(\n",
    "    count_winner=('winner_id', 'size')).reset_index()\n",
    "sample_more20 = more20.groupby(['winner_id', 'tourney_year']).agg(\n",
    "    count_winner=('winner_id', 'size')).reset_index()"
   ]
  },
  {
   "cell_type": "code",
   "execution_count": 41,
   "metadata": {},
   "outputs": [
    {
     "data": {
      "text/html": [
       "<div>\n",
       "<style scoped>\n",
       "    .dataframe tbody tr th:only-of-type {\n",
       "        vertical-align: middle;\n",
       "    }\n",
       "\n",
       "    .dataframe tbody tr th {\n",
       "        vertical-align: top;\n",
       "    }\n",
       "\n",
       "    .dataframe thead th {\n",
       "        text-align: right;\n",
       "    }\n",
       "</style>\n",
       "<table border=\"1\" class=\"dataframe\">\n",
       "  <thead>\n",
       "    <tr style=\"text-align: right;\">\n",
       "      <th></th>\n",
       "      <th>winner_id</th>\n",
       "      <th>tourney_year</th>\n",
       "      <th>count_winner</th>\n",
       "    </tr>\n",
       "  </thead>\n",
       "  <tbody>\n",
       "    <tr>\n",
       "      <th>0</th>\n",
       "      <td>100060</td>\n",
       "      <td>1980</td>\n",
       "      <td>1</td>\n",
       "    </tr>\n",
       "    <tr>\n",
       "      <th>1</th>\n",
       "      <td>100091</td>\n",
       "      <td>1980</td>\n",
       "      <td>2</td>\n",
       "    </tr>\n",
       "    <tr>\n",
       "      <th>2</th>\n",
       "      <td>100119</td>\n",
       "      <td>1981</td>\n",
       "      <td>1</td>\n",
       "    </tr>\n",
       "  </tbody>\n",
       "</table>\n",
       "</div>"
      ],
      "text/plain": [
       "   winner_id  tourney_year  count_winner\n",
       "0     100060          1980             1\n",
       "1     100091          1980             2\n",
       "2     100119          1981             1"
      ]
     },
     "execution_count": 41,
     "metadata": {},
     "output_type": "execute_result"
    }
   ],
   "source": [
    "sample_less5.head(3)"
   ]
  },
  {
   "cell_type": "code",
   "execution_count": 42,
   "metadata": {},
   "outputs": [],
   "source": [
    "# Группировка по году и c подсчетом среднего количества побед за каждый год\n",
    "sample_less5_mean = sample_less5.groupby('tourney_year').agg(\n",
    "    count_winner=('count_winner', 'mean')).reset_index()\n",
    "sample_more20_mean = sample_more20.groupby('tourney_year').agg(\n",
    "    count_winner=('count_winner', 'mean')).reset_index()"
   ]
  },
  {
   "cell_type": "code",
   "execution_count": 43,
   "metadata": {},
   "outputs": [
    {
     "data": {
      "text/html": [
       "<div>\n",
       "<style scoped>\n",
       "    .dataframe tbody tr th:only-of-type {\n",
       "        vertical-align: middle;\n",
       "    }\n",
       "\n",
       "    .dataframe tbody tr th {\n",
       "        vertical-align: top;\n",
       "    }\n",
       "\n",
       "    .dataframe thead th {\n",
       "        text-align: right;\n",
       "    }\n",
       "</style>\n",
       "<table border=\"1\" class=\"dataframe\">\n",
       "  <thead>\n",
       "    <tr style=\"text-align: right;\">\n",
       "      <th></th>\n",
       "      <th>tourney_year</th>\n",
       "      <th>count_winner</th>\n",
       "    </tr>\n",
       "  </thead>\n",
       "  <tbody>\n",
       "    <tr>\n",
       "      <th>0</th>\n",
       "      <td>1980</td>\n",
       "      <td>9.043103</td>\n",
       "    </tr>\n",
       "    <tr>\n",
       "      <th>1</th>\n",
       "      <td>1981</td>\n",
       "      <td>9.091743</td>\n",
       "    </tr>\n",
       "    <tr>\n",
       "      <th>2</th>\n",
       "      <td>1982</td>\n",
       "      <td>8.050000</td>\n",
       "    </tr>\n",
       "    <tr>\n",
       "      <th>3</th>\n",
       "      <td>1983</td>\n",
       "      <td>6.734375</td>\n",
       "    </tr>\n",
       "    <tr>\n",
       "      <th>4</th>\n",
       "      <td>1984</td>\n",
       "      <td>7.931452</td>\n",
       "    </tr>\n",
       "  </tbody>\n",
       "</table>\n",
       "</div>"
      ],
      "text/plain": [
       "   tourney_year  count_winner\n",
       "0          1980      9.043103\n",
       "1          1981      9.091743\n",
       "2          1982      8.050000\n",
       "3          1983      6.734375\n",
       "4          1984      7.931452"
      ]
     },
     "execution_count": 43,
     "metadata": {},
     "output_type": "execute_result"
    }
   ],
   "source": [
    "sample_more20_mean.head(5)"
   ]
  },
  {
   "cell_type": "code",
   "execution_count": 44,
   "metadata": {},
   "outputs": [
    {
     "name": "stdout",
     "output_type": "stream",
     "text": [
      "Среднее значение побед в первой выборке:2.305\n",
      "Среднее значение побед во второй выборке:8.432\n"
     ]
    }
   ],
   "source": [
    "# Среднее значение побед в каждой выборке\n",
    "print(\n",
    "    f'Среднее значение побед в первой выборке:{round(sample_less5_mean[\"count_winner\"].mean(), 3)}')\n",
    "print(\n",
    "    f'Среднее значение побед во второй выборке:{round(sample_more20_mean[\"count_winner\"].mean(),3)}')"
   ]
  },
  {
   "cell_type": "code",
   "execution_count": 45,
   "metadata": {},
   "outputs": [
    {
     "name": "stderr",
     "output_type": "stream",
     "text": [
      "No artists with labels found to put in legend.  Note that artists whose label start with an underscore are ignored when legend() is called with no argument.\n"
     ]
    },
    {
     "data": {
      "image/png": "[encoded data removed]",
      "text/plain": [
       "<Figure size 640x480 with 1 Axes>"
      ]
     },
     "metadata": {},
     "output_type": "display_data"
    }
   ],
   "source": [
    "# Построение гистограммы\n",
    "plt.hist(sample_less5_mean['count_winner'], bins=10, alpha=0.5)\n",
    "plt.hist(sample_more20_mean['count_winner'], bins=10, alpha=0.5)\n",
    "\n",
    "plt.xlabel('Rate')\n",
    "plt.ylabel('Frequency')\n",
    "plt.title('Distribution of Victories')\n",
    "plt.legend()\n",
    "\n",
    "plt.show()"
   ]
  },
  {
   "cell_type": "code",
   "execution_count": 46,
   "metadata": {},
   "outputs": [
    {
     "data": {
      "image/png": "[encoded data removed]",
      "text/plain": [
       "<Figure size 1000x500 with 2 Axes>"
      ]
     },
     "metadata": {},
     "output_type": "display_data"
    }
   ],
   "source": [
    "# Построение линейного графика\n",
    "plt.figure(figsize=(10, 5))\n",
    "\n",
    "plt.subplot(1, 2, 1)\n",
    "stats.probplot(sample_less5_mean['count_winner'], dist=\"norm\", plot=plt)\n",
    "plt.title('QQ plot для первой выборки')\n",
    "\n",
    "plt.subplot(1, 2, 2)\n",
    "stats.probplot(sample_more20_mean['count_winner'], dist=\"norm\", plot=plt)\n",
    "plt.title('QQ plot для второй выборки')\n",
    "\n",
    "plt.show()"
   ]
  },
  {
   "cell_type": "code",
   "execution_count": 47,
   "metadata": {},
   "outputs": [
    {
     "data": {
      "image/png": "[encoded data removed]",
      "text/plain": [
       "<Figure size 2000x400 with 2 Axes>"
      ]
     },
     "metadata": {},
     "output_type": "display_data"
    }
   ],
   "source": [
    "# Построение графика боксплот\n",
    "\n",
    "fig, (ax1, ax2) = plt.subplots(1, 2, figsize=(20, 4))\n",
    "sns.boxplot(x='count_winner', data=sample_less5_mean,\n",
    "            ax=ax1, showfliers=False)\n",
    "ax1.set_title('Boxplot для первой выборки')\n",
    "sns.boxplot(x='count_winner', data=sample_more20_mean,\n",
    "            ax=ax2, showfliers=False)\n",
    "ax2.set_title('Boxplot для второй выборки')\n",
    "\n",
    "plt.show()"
   ]
  },
  {
   "cell_type": "markdown",
   "metadata": {},
   "source": [
    "Проводим статистический тест на нормальность"
   ]
  },
  {
   "cell_type": "code",
   "execution_count": 48,
   "metadata": {},
   "outputs": [
    {
     "name": "stdout",
     "output_type": "stream",
     "text": [
      "alpha = 0.05\n",
      "p=0.18761\n",
      "Данные распределены нормально\n"
     ]
    }
   ],
   "source": [
    "shapiro_test_function(sample_less5_mean, 'count_winner')"
   ]
  },
  {
   "cell_type": "code",
   "execution_count": 49,
   "metadata": {},
   "outputs": [
    {
     "name": "stdout",
     "output_type": "stream",
     "text": [
      "alpha = 0.05\n",
      "p=0.00013\n",
      "Мы отвергаем нулевую гипотезу.Данные распределены не нормально\n"
     ]
    }
   ],
   "source": [
    "shapiro_test_function(sample_more20_mean, 'count_winner')"
   ]
  },
  {
   "cell_type": "markdown",
   "metadata": {},
   "source": [
    "Так как в одной из групп данные распределены не нормально по результату теста Шапиро-Уилка, необходимо далее подобрать непараметрический тест, например, [тест Манна-Уитни](https://docs.scipy.org/doc/scipy/reference/generated/scipy.stats.mannwhitneyu.html). \n",
    "\n",
    "Тест применяется для оценки различий между двумя независимыми группами, подходит для использования с данными, которые не являются нормально распределенными, и когда данные являются порядковыми (ранговыми) или по крайней мере могут быть упорядочены."
   ]
  },
  {
   "cell_type": "code",
   "execution_count": 50,
   "metadata": {},
   "outputs": [
    {
     "name": "stdout",
     "output_type": "stream",
     "text": [
      "alpha = 0.025\n",
      "alternative = greater\n",
      "p-value = 0.0\n",
      "Отвергаем нулевую гипотезу.\n",
      "Альтернативная гипотеза. H1: Среднее количество побед в выборке c разницей в ранге более 20 больше, чем в другой выборке\n"
     ]
    }
   ],
   "source": [
    "# Формулирование гипотез: нулевая и альтернативная\n",
    "H0 = 'Среднее количество побед равны в двух выборках'\n",
    "H1 = 'Среднее количество побед в выборке c разницей в ранге более 20 больше, чем в другой выборке'\n",
    "\n",
    "# односторонний тест alpha = 0.05/2 = 0.025\n",
    "alpha = 0.025\n",
    "\n",
    "mannwhitneyu_function(sample_more20_mean, sample_less5_mean,\n",
    "                      'count_winner', alpha, alternative_hyp='greater')"
   ]
  },
  {
   "cell_type": "markdown",
   "metadata": {},
   "source": [
    "Вывод: Среднее количество побед статистически значимо больше в выборке с разницей в ранге более 20, чем в выборке с разницей в ранге менее 5. Таким образом, разница в ранге имеет значение в вероятности победы. "
   ]
  },
  {
   "cell_type": "markdown",
   "metadata": {},
   "source": [
    "## Задача 2"
   ]
  },
  {
   "cell_type": "markdown",
   "metadata": {},
   "source": [
    "Правда ли, что среднее количество сетов, которое необходимо любому игроку для победы в матче, сокращается со временем?\n",
    "\n",
    "Разбейте данные на две группы — с 1980 до 2001 гг. и 2002-2022 гг. Как изменилось среднее количество сетов, которое победитель затратил на игру? Является ли разница средних этих двух выборок статистически значимой? Выбор статистического теста обоснуйте."
   ]
  },
  {
   "cell_type": "code",
   "execution_count": 51,
   "metadata": {},
   "outputs": [],
   "source": [
    "# Формируем выборки по годам: первая с 1980 до 2001 гг. и вторая с 2002 до 2022 гг.\n",
    "sample1980_2001 = df_1[(df_1['tourney_year'] > 1979) &\n",
    "                       (df_1['tourney_year'] < 2002)]\n",
    "sample2002_2022 = df_1[(df_1['tourney_year'] > 2001) &\n",
    "                       (df_1['tourney_year'] < 2023)]"
   ]
  },
  {
   "cell_type": "code",
   "execution_count": 52,
   "metadata": {},
   "outputs": [],
   "source": [
    "# Оставляем только нужные столбцы для работы\n",
    "sample1980_2001 = sample1980_2001[[\n",
    "    'tourney_year', 'winner_id', 'winner_name', 'score']]\n",
    "sample2002_2022 = sample2002_2022[[\n",
    "    'tourney_year', 'winner_id', 'winner_name', 'score']]"
   ]
  },
  {
   "cell_type": "code",
   "execution_count": 53,
   "metadata": {},
   "outputs": [],
   "source": [
    "# Функция для подсчёта количества сетов через регулярное выражение\n",
    "def count_sets(score):\n",
    "    return len(re.findall(r'\\d+-\\d+', str(score)))\n",
    "\n",
    "\n",
    "# Применяем функцию к столбцу 'score' и создаём новый 'set_count'\n",
    "sample1980_2001['set_count'] = sample1980_2001['score'].apply(count_sets)\n",
    "sample2002_2022['set_count'] = sample2002_2022['score'].apply(count_sets)"
   ]
  },
  {
   "cell_type": "code",
   "execution_count": 54,
   "metadata": {},
   "outputs": [
    {
     "data": {
      "text/html": [
       "<div>\n",
       "<style scoped>\n",
       "    .dataframe tbody tr th:only-of-type {\n",
       "        vertical-align: middle;\n",
       "    }\n",
       "\n",
       "    .dataframe tbody tr th {\n",
       "        vertical-align: top;\n",
       "    }\n",
       "\n",
       "    .dataframe thead th {\n",
       "        text-align: right;\n",
       "    }\n",
       "</style>\n",
       "<table border=\"1\" class=\"dataframe\">\n",
       "  <thead>\n",
       "    <tr style=\"text-align: right;\">\n",
       "      <th></th>\n",
       "      <th>tourney_year</th>\n",
       "      <th>winner_id</th>\n",
       "      <th>winner_name</th>\n",
       "      <th>score</th>\n",
       "      <th>set_count</th>\n",
       "    </tr>\n",
       "  </thead>\n",
       "  <tbody>\n",
       "    <tr>\n",
       "      <th>70821</th>\n",
       "      <td>1986</td>\n",
       "      <td>100855</td>\n",
       "      <td>Scott Davis</td>\n",
       "      <td>6-3 6-4</td>\n",
       "      <td>2</td>\n",
       "    </tr>\n",
       "    <tr>\n",
       "      <th>64321</th>\n",
       "      <td>1984</td>\n",
       "      <td>100656</td>\n",
       "      <td>Ivan Lendl</td>\n",
       "      <td>6-4 6-2</td>\n",
       "      <td>2</td>\n",
       "    </tr>\n",
       "    <tr>\n",
       "      <th>80606</th>\n",
       "      <td>1989</td>\n",
       "      <td>101012</td>\n",
       "      <td>Massimiliano Narducci</td>\n",
       "      <td>6-3 4-6 6-2</td>\n",
       "      <td>3</td>\n",
       "    </tr>\n",
       "  </tbody>\n",
       "</table>\n",
       "</div>"
      ],
      "text/plain": [
       "       tourney_year  winner_id            winner_name        score  set_count\n",
       "70821          1986     100855            Scott Davis      6-3 6-4          2\n",
       "64321          1984     100656             Ivan Lendl      6-4 6-2          2\n",
       "80606          1989     101012  Massimiliano Narducci  6-3 4-6 6-2          3"
      ]
     },
     "execution_count": 54,
     "metadata": {},
     "output_type": "execute_result"
    }
   ],
   "source": [
    "sample1980_2001.sample(3)"
   ]
  },
  {
   "cell_type": "code",
   "execution_count": 55,
   "metadata": {},
   "outputs": [
    {
     "data": {
      "text/plain": [
       "tourney_year    0\n",
       "winner_id       0\n",
       "winner_name     0\n",
       "score           3\n",
       "set_count       0\n",
       "dtype: int64"
      ]
     },
     "execution_count": 55,
     "metadata": {},
     "output_type": "execute_result"
    }
   ],
   "source": [
    "# Проверка пропусков\n",
    "sample1980_2001.isna().sum()"
   ]
  },
  {
   "cell_type": "code",
   "execution_count": 56,
   "metadata": {},
   "outputs": [
    {
     "data": {
      "text/plain": [
       "tourney_year    0\n",
       "winner_id       0\n",
       "winner_name     0\n",
       "score           0\n",
       "set_count       0\n",
       "dtype: int64"
      ]
     },
     "execution_count": 56,
     "metadata": {},
     "output_type": "execute_result"
    }
   ],
   "source": [
    "# Проверка пропусков\n",
    "sample2002_2022.isna().sum()"
   ]
  },
  {
   "cell_type": "code",
   "execution_count": 57,
   "metadata": {},
   "outputs": [
    {
     "data": {
      "text/plain": [
       "tourney_year    0\n",
       "winner_id       0\n",
       "winner_name     0\n",
       "score           0\n",
       "set_count       0\n",
       "dtype: int64"
      ]
     },
     "execution_count": 57,
     "metadata": {},
     "output_type": "execute_result"
    }
   ],
   "source": [
    "# Удаление пропусков\n",
    "sample1980_2001 = sample1980_2001.dropna(subset=['score'])\n",
    "sample1980_2001.isna().sum()"
   ]
  },
  {
   "cell_type": "code",
   "execution_count": 58,
   "metadata": {},
   "outputs": [
    {
     "name": "stdout",
     "output_type": "stream",
     "text": [
      "Среднее количество сетов для побед в первой выборке:2.594\n",
      "Среднее количество сетов для побед во второй выборке:2.62\n"
     ]
    }
   ],
   "source": [
    "# Среднее значение побед в каждой выборке\n",
    "print(\n",
    "    f'Среднее количество сетов для побед в первой выборке:{round(sample1980_2001[\"set_count\"].mean(), 3)}')\n",
    "print(\n",
    "    f'Среднее количество сетов для побед во второй выборке:{round(sample2002_2022[\"set_count\"].mean(),3)}')"
   ]
  },
  {
   "cell_type": "code",
   "execution_count": 59,
   "metadata": {},
   "outputs": [
    {
     "name": "stderr",
     "output_type": "stream",
     "text": [
      "No artists with labels found to put in legend.  Note that artists whose label start with an underscore are ignored when legend() is called with no argument.\n",
      "No artists with labels found to put in legend.  Note that artists whose label start with an underscore are ignored when legend() is called with no argument.\n"
     ]
    },
    {
     "data": {
      "image/png": "[encoded data removed]",
      "text/plain": [
       "<Figure size 1000x500 with 2 Axes>"
      ]
     },
     "metadata": {},
     "output_type": "display_data"
    }
   ],
   "source": [
    "# Построение гистограммы\n",
    "\n",
    "plt.figure(figsize=(10, 5))\n",
    "\n",
    "plt.subplot(1, 2, 1)\n",
    "plt.hist(sample1980_2001['set_count'], bins=10)\n",
    "plt.title('Distribution of mean set number for sample 1')\n",
    "plt.xlabel('Rate')\n",
    "plt.ylabel('Frequency')\n",
    "plt.legend()\n",
    "\n",
    "plt.subplot(1, 2, 2)\n",
    "plt.hist(sample2002_2022['set_count'], bins=10)\n",
    "plt.title('Distribution of mean set number for sample 2')\n",
    "\n",
    "plt.xlabel('Rate')\n",
    "plt.ylabel('Frequency')\n",
    "plt.legend()\n",
    "\n",
    "plt.show()"
   ]
  },
  {
   "cell_type": "code",
   "execution_count": 60,
   "metadata": {},
   "outputs": [
    {
     "data": {
      "image/png": "[encoded data removed]",
      "text/plain": [
       "<Figure size 1000x500 with 2 Axes>"
      ]
     },
     "metadata": {},
     "output_type": "display_data"
    }
   ],
   "source": [
    "# Построение QQ plot графика\n",
    "plt.figure(figsize=(10, 5))\n",
    "\n",
    "plt.subplot(1, 2, 1)\n",
    "stats.probplot(sample1980_2001['set_count'], dist=\"norm\", plot=plt)\n",
    "plt.title('QQ plot для первой выборки')\n",
    "\n",
    "plt.subplot(1, 2, 2)\n",
    "stats.probplot(sample2002_2022['set_count'], dist=\"norm\", plot=plt)\n",
    "plt.title('QQ plot для второй выборки')\n",
    "\n",
    "plt.show()"
   ]
  },
  {
   "cell_type": "code",
   "execution_count": 61,
   "metadata": {},
   "outputs": [
    {
     "name": "stdout",
     "output_type": "stream",
     "text": [
      "alpha = 0.05\n",
      "p=0.00000\n",
      "Мы отвергаем нулевую гипотезу.Данные распределены не нормально\n"
     ]
    },
    {
     "name": "stderr",
     "output_type": "stream",
     "text": [
      "c:\\Users\\Екатерина\\AppData\\Local\\Programs\\Python\\Python39\\lib\\site-packages\\scipy\\stats\\_morestats.py:1816: UserWarning: p-value may not be accurate for N > 5000.\n",
      "  warnings.warn(\"p-value may not be accurate for N > 5000.\")\n"
     ]
    }
   ],
   "source": [
    "# Проверка распределения на нормальность с помощью теста Шапиро-Уилка\n",
    "shapiro_test_function(sample1980_2001, 'set_count')"
   ]
  },
  {
   "cell_type": "code",
   "execution_count": 62,
   "metadata": {},
   "outputs": [
    {
     "name": "stdout",
     "output_type": "stream",
     "text": [
      "alpha = 0.05\n",
      "p=0.00000\n",
      "Мы отвергаем нулевую гипотезу.Данные распределены не нормально\n"
     ]
    }
   ],
   "source": [
    "shapiro_test_function(sample1980_2001, 'set_count')"
   ]
  },
  {
   "cell_type": "markdown",
   "metadata": {},
   "source": [
    "Так как в обеих группах данные распределены не нормально по результату теста Шапиро-Уилка и данные являются по сути независимыми (независимые выборки), необходимо далее подобрать непараметрический тест, например, [тест Манна-Уитни](https://docs.scipy.org/doc/scipy/reference/generated/scipy.stats.mannwhitneyu.html). \n",
    "\n",
    "Тест применяется для оценки различий между двумя независимыми группами, подходит для использования с данными, которые не являются нормально распределенными, и когда данные являются порядковыми (ранговыми) или по крайней мере могут быть упорядочены."
   ]
  },
  {
   "cell_type": "code",
   "execution_count": 63,
   "metadata": {},
   "outputs": [
    {
     "name": "stdout",
     "output_type": "stream",
     "text": [
      "alpha = 0.05\n",
      "alternative = two-sided\n",
      "p-value = 0.0\n",
      "Отвергаем нулевую гипотезу.\n",
      "Альтернативная гипотеза. H1: Среднее количество сетов, необходимое игроку для победы, не равно в двух выборках\n"
     ]
    }
   ],
   "source": [
    "# Формулирование гипотез: нулевая и альтернативная\n",
    "H0 = 'Среднее количество сетов, необходимое игроку для победы, равно в двух выборках'\n",
    "H1 = 'Среднее количество сетов, необходимое игроку для победы, не равно в двух выборках'\n",
    "\n",
    "# двусторонний тест\n",
    "alpha = 0.05\n",
    "\n",
    "mannwhitneyu_function(sample1980_2001, sample2002_2022, 'set_count', alpha)"
   ]
  },
  {
   "cell_type": "markdown",
   "metadata": {},
   "source": [
    "Так как мы получили, что среднее количество сетов, необходимое игроку для победы, не равно в двух выборках, то необходимо дальше провести односторонний тест для уточнения, в какой выборке больше среднее количество сетов для победы."
   ]
  },
  {
   "cell_type": "code",
   "execution_count": 64,
   "metadata": {},
   "outputs": [
    {
     "name": "stdout",
     "output_type": "stream",
     "text": [
      "alpha = 0.025\n",
      "alternative = greater\n",
      "p-value = 0.0\n",
      "Отвергаем нулевую гипотезу.\n",
      "Альтернативная гипотеза. H1: Среднее количество сетов, необходимое игроку для победы, во второй выборке больше\n"
     ]
    }
   ],
   "source": [
    "# Формулирование гипотез: нулевая и альтернативная\n",
    "H0 = 'Среднее количество сетов, необходимое игроку для победы, равно в двух выборках'\n",
    "H1 = 'Среднее количество сетов, необходимое игроку для победы, во второй выборке больше'\n",
    "\n",
    "# односторонний тест\n",
    "alpha = 0.025\n",
    "\n",
    "mannwhitneyu_function(sample2002_2022, sample1980_2001,\n",
    "                      'set_count', alpha, alternative_hyp='greater')"
   ]
  },
  {
   "cell_type": "markdown",
   "metadata": {},
   "source": [
    "Таким образом, по результатам статистического теста мы выяснили, что среднее количество сетов статистически значимо выше в выборке за период 2002-2022 по сравнению с выборкой за период 1980-2001.\n",
    "Таким образом, среднее количество сетов для победы выросло со временем."
   ]
  },
  {
   "cell_type": "markdown",
   "metadata": {},
   "source": [
    "# Задание 3"
   ]
  },
  {
   "cell_type": "markdown",
   "metadata": {},
   "source": [
    "У вас появились сомнения — не является ли результат, который вы посчитали на предыдущем шаге, некорректным.\n",
    "\n",
    "Кажется, что на это мог повлиять формат самого матча — best of 3 или best of 5. Оставьте только матчи best of 5 (колонка best_of) и определите — является ли разница среднего количества сетов, которое сыграл победитель, значимой для выборок матчей по 1980 до 2001 гг. и 2002-2022 гг. Выбор статистического теста обоснуйте."
   ]
  },
  {
   "cell_type": "code",
   "execution_count": 65,
   "metadata": {},
   "outputs": [],
   "source": [
    "# выбираем только best of 5 матчи\n",
    "df_best_5 = df_1[df_1['best_of'] == 5]"
   ]
  },
  {
   "cell_type": "code",
   "execution_count": 66,
   "metadata": {},
   "outputs": [],
   "source": [
    "# Ниже код скопирован из предыдущей задачи\n",
    "\n",
    "# Формируем выборки по годам: первая с 1980 до 2001 гг. и вторая с 2002 до 2022 гг.\n",
    "sample1980_2001 = df_best_5[(df_best_5['tourney_year'] > 1979) & (\n",
    "    df_best_5['tourney_year'] < 2002)]\n",
    "sample2002_2022 = df_best_5[(df_best_5['tourney_year'] > 2001) & (\n",
    "    df_best_5['tourney_year'] < 2023)]\n",
    "\n",
    "# Оставляем только нужные столбцы для работы\n",
    "sample1980_2001 = sample1980_2001[[\n",
    "    'tourney_year', 'winner_id', 'winner_name', 'score']]\n",
    "sample2002_2022 = sample2002_2022[[\n",
    "    'tourney_year', 'winner_id', 'winner_name', 'score']]\n",
    "\n",
    "# Функция для подсчёта количества сетов через регулярное выражение\n",
    "\n",
    "\n",
    "def count_sets(score):\n",
    "    return len(re.findall(r'\\d+-\\d+', str(score)))\n",
    "\n",
    "\n",
    "# Удаление пропусков\n",
    "sample1980_2001 = sample1980_2001.dropna(subset=['score'])\n",
    "\n",
    "# Применяем функцию к столбцу 'score' и создаём новый 'set_count'\n",
    "sample1980_2001['set_count'] = sample1980_2001['score'].apply(count_sets)\n",
    "sample2002_2022['set_count'] = sample2002_2022['score'].apply(count_sets)"
   ]
  },
  {
   "cell_type": "code",
   "execution_count": 67,
   "metadata": {},
   "outputs": [
    {
     "name": "stderr",
     "output_type": "stream",
     "text": [
      "No artists with labels found to put in legend.  Note that artists whose label start with an underscore are ignored when legend() is called with no argument.\n",
      "No artists with labels found to put in legend.  Note that artists whose label start with an underscore are ignored when legend() is called with no argument.\n"
     ]
    },
    {
     "data": {
      "image/png": "[encoded data removed]",
      "text/plain": [
       "<Figure size 1000x500 with 2 Axes>"
      ]
     },
     "metadata": {},
     "output_type": "display_data"
    }
   ],
   "source": [
    "# Построение гистограммы\n",
    "plt.figure(figsize=(10, 5))\n",
    "\n",
    "plt.subplot(1, 2, 1)\n",
    "plt.hist(sample1980_2001['set_count'], bins=10)\n",
    "plt.title('Distribution of mean set number for sample 1')\n",
    "plt.xlabel('Rate')\n",
    "plt.ylabel('Frequency')\n",
    "plt.legend()\n",
    "\n",
    "plt.subplot(1, 2, 2)\n",
    "plt.hist(sample2002_2022['set_count'], bins=10)\n",
    "plt.title('Distribution of mean set number for sample 2')\n",
    "\n",
    "plt.xlabel('Rate')\n",
    "plt.ylabel('Frequency')\n",
    "plt.legend()\n",
    "\n",
    "plt.show()"
   ]
  },
  {
   "cell_type": "code",
   "execution_count": 68,
   "metadata": {},
   "outputs": [
    {
     "name": "stdout",
     "output_type": "stream",
     "text": [
      "alpha = 0.05\n",
      "p=0.00000\n",
      "Мы отвергаем нулевую гипотезу.Данные распределены не нормально\n"
     ]
    },
    {
     "name": "stderr",
     "output_type": "stream",
     "text": [
      "c:\\Users\\Екатерина\\AppData\\Local\\Programs\\Python\\Python39\\lib\\site-packages\\scipy\\stats\\_morestats.py:1816: UserWarning: p-value may not be accurate for N > 5000.\n",
      "  warnings.warn(\"p-value may not be accurate for N > 5000.\")\n"
     ]
    }
   ],
   "source": [
    "# Проверка распределения на нормальность с помощью теста Шапиро-Уилка\n",
    "shapiro_test_function(sample1980_2001, 'set_count')"
   ]
  },
  {
   "cell_type": "code",
   "execution_count": 69,
   "metadata": {},
   "outputs": [
    {
     "name": "stdout",
     "output_type": "stream",
     "text": [
      "alpha = 0.05\n",
      "p=0.00000\n",
      "Мы отвергаем нулевую гипотезу.Данные распределены не нормально\n"
     ]
    }
   ],
   "source": [
    "shapiro_test_function(sample2002_2022, 'set_count')"
   ]
  },
  {
   "cell_type": "markdown",
   "metadata": {},
   "source": [
    "Так как в обеих группах данные распределены не нормально по результату теста Шапиро-Уилка и данные являются по сути независимыми (независимые выборки), необходимо далее подобрать непараметрический тест, например, [тест Манна-Уитни](https://docs.scipy.org/doc/scipy/reference/generated/scipy.stats.mannwhitneyu.html). \n",
    "\n",
    "Тест применяется для оценки различий между двумя независимыми группами, подходит для использования с данными, которые не являются нормально распределенными, и когда данные являются порядковыми (ранговыми) или по крайней мере могут быть упорядочены."
   ]
  },
  {
   "cell_type": "code",
   "execution_count": 70,
   "metadata": {},
   "outputs": [
    {
     "name": "stdout",
     "output_type": "stream",
     "text": [
      "alpha = 0.05\n",
      "alternative = two-sided\n",
      "p-value = 1e-05\n",
      "Отвергаем нулевую гипотезу.\n",
      "Альтернативная гипотеза. H1: Среднее количество сетов, необходимое игроку для победы, не равно в двух выборках\n"
     ]
    }
   ],
   "source": [
    "# Формулирование гипотез: нулевая и альтернативная\n",
    "H0 = 'Среднее количество сетов, необходимое игроку для победы, равно в двух выборках'\n",
    "H1 = 'Среднее количество сетов, необходимое игроку для победы, не равно в двух выборках'\n",
    "\n",
    "# двусторонний тест\n",
    "alpha = 0.05\n",
    "\n",
    "mannwhitneyu_function(sample1980_2001, sample2002_2022,\n",
    "                      'set_count', alpha, alternative_hyp='two-sided')"
   ]
  },
  {
   "cell_type": "markdown",
   "metadata": {},
   "source": [
    "Так как мы получили, что среднее количество сетов, необходимое игроку для победы, не равно в двух выборках, то необходимо дальше провести односторонний тест для уточнения, в какой выборке больше среднее количество сетов для победы."
   ]
  },
  {
   "cell_type": "code",
   "execution_count": 71,
   "metadata": {},
   "outputs": [
    {
     "name": "stdout",
     "output_type": "stream",
     "text": [
      "alpha = 0.025\n",
      "alternative = greater\n",
      "p-value = 1e-05\n",
      "Отвергаем нулевую гипотезу.\n",
      "Альтернативная гипотеза. H1: Среднее количество сетов, необходимое игроку для победы, в первой выборке больше\n"
     ]
    }
   ],
   "source": [
    "# Формулирование гипотез: нулевая и альтернативная\n",
    "H0 = 'Среднее количество сетов, необходимое игроку для победы, равно в двух выборках'\n",
    "H1 = 'Среднее количество сетов, необходимое игроку для победы, в первой выборке больше'\n",
    "\n",
    "# односторонний тест\n",
    "alpha = 0.025\n",
    "\n",
    "mannwhitneyu_function(sample1980_2001, sample2002_2022,\n",
    "                      'set_count', alpha, alternative_hyp='greater')"
   ]
  },
  {
   "cell_type": "markdown",
   "metadata": {},
   "source": [
    "Таким образом, по результатам статистического теста мы выяснили, что для матчей категории best of 5 среднее количество сетов, которые сыграли победители, статистически значимо больше в выборке за период 1980-2001 по сравнению с выборкой за период 2002-2022. Таким образом, для матчей этой категории среднее количество сетов для победы уменьшилось. "
   ]
  },
  {
   "cell_type": "markdown",
   "metadata": {},
   "source": [
    "# Задание 4"
   ]
  },
  {
   "cell_type": "markdown",
   "metadata": {},
   "source": [
    "Вы хотите изучить психологическую устойчивость профессиональных игроков в теннис.\n",
    "\n",
    "Одним из важных показателей такой устойчивости будет доля выигранных брейк-поинтов. Возьмите трех игроков (они необязательно должны играть в одно и то же время. Можете взять игроков, которые сильно отличаются по рангу, а можете взять примерно равных игроков), для каждого из них посчитайте долю выигранных брейк поинтов (колонки, заканчивающиеся на bpFaced и bpSaved) отдельно в победных и проигранных матчах за минимум 10 лет (можно больше, но годы должны идти подряд). Постройте box-plot’ы для этих статистик для каждого из игроков. Являются ли эти распределения по годам (по победным и по проигранным матчам) независимыми для каждого из игроков? Если сравнивать эту статистику между игроками — будет ли разница в средних для проигранных и выигранных матчей значимой попарно между всеми игроками? Выбор статистического теста обоснуйте."
   ]
  },
  {
   "cell_type": "code",
   "execution_count": 72,
   "metadata": {},
   "outputs": [],
   "source": [
    "# копируем датасет\n",
    "df2 = df_1.copy()"
   ]
  },
  {
   "cell_type": "code",
   "execution_count": 73,
   "metadata": {},
   "outputs": [],
   "source": [
    "# Группируем исходный датафрейм по winner_name и агрегируем годы tourney_year\n",
    "grouped = df2.groupby('winner_name')['tourney_year'].agg(\n",
    "    lambda x: list(sorted(set(x))))\n",
    "\n",
    "# Фильтруем тех игроков, которые играли более 10 лет подряд\n",
    "\n",
    "\n",
    "def filter_consecutive_years(years_list):\n",
    "    # Убедимся, что года идут по порядку без повторений\n",
    "    years_list = sorted(set(years_list))\n",
    "    for start in range(len(years_list) - 10):  # Проверка подряд идущих лет\n",
    "        if years_list[start + 10] - years_list[start] == 10:\n",
    "            return True\n",
    "    return False\n",
    "\n",
    "\n",
    "# Теперь применяем функцию фильтрации к нашей группировке\n",
    "consistent_players = grouped[grouped.apply(filter_consecutive_years)].index\n",
    "\n",
    "# Создание нового датафрейма new_df с нужными столбцами и отфильтрованными игроками:\n",
    "\n",
    "# Сначала получаем все колонки, которые заканчиваются на bpFaced и bpSaved\n",
    "bp_columns = [col for col in df2.columns if col.endswith(\n",
    "    'bpFaced') or col.endswith('bpSaved')]\n",
    "\n",
    "# Список колонок, которые нам нужны в new_df\n",
    "columns_needed = ['tourney_year', 'tourney_id', 'winner_id', 'winner_name',\n",
    "                  'winner_rank', 'loser_id', 'loser_name', 'loser_rank'] + bp_columns\n",
    "\n",
    "# Фильтруем исходный датафрейм, чтобы включить только тех игроков, которые есть в consistent_players\n",
    "filtered_df2 = df2[df2['winner_name'].isin(consistent_players)]\n",
    "\n",
    "# Создаем new_df с нужными колонками\n",
    "new_df = filtered_df2[columns_needed].drop_duplicates()"
   ]
  },
  {
   "cell_type": "code",
   "execution_count": 74,
   "metadata": {},
   "outputs": [
    {
     "data": {
      "text/html": [
       "<div>\n",
       "<style scoped>\n",
       "    .dataframe tbody tr th:only-of-type {\n",
       "        vertical-align: middle;\n",
       "    }\n",
       "\n",
       "    .dataframe tbody tr th {\n",
       "        vertical-align: top;\n",
       "    }\n",
       "\n",
       "    .dataframe thead th {\n",
       "        text-align: right;\n",
       "    }\n",
       "</style>\n",
       "<table border=\"1\" class=\"dataframe\">\n",
       "  <thead>\n",
       "    <tr style=\"text-align: right;\">\n",
       "      <th></th>\n",
       "      <th>tourney_year</th>\n",
       "      <th>tourney_id</th>\n",
       "      <th>winner_id</th>\n",
       "      <th>winner_name</th>\n",
       "      <th>winner_rank</th>\n",
       "      <th>loser_id</th>\n",
       "      <th>loser_name</th>\n",
       "      <th>loser_rank</th>\n",
       "      <th>w_bpSaved</th>\n",
       "      <th>w_bpFaced</th>\n",
       "      <th>l_bpSaved</th>\n",
       "      <th>l_bpFaced</th>\n",
       "    </tr>\n",
       "  </thead>\n",
       "  <tbody>\n",
       "    <tr>\n",
       "      <th>18086</th>\n",
       "      <td>1973</td>\n",
       "      <td>1973-2016</td>\n",
       "      <td>100119</td>\n",
       "      <td>Ilie Nastase</td>\n",
       "      <td>1.0</td>\n",
       "      <td>100129</td>\n",
       "      <td>Jean Baptiste Chanfreau</td>\n",
       "      <td>88.0</td>\n",
       "      <td>NaN</td>\n",
       "      <td>NaN</td>\n",
       "      <td>NaN</td>\n",
       "      <td>NaN</td>\n",
       "    </tr>\n",
       "    <tr>\n",
       "      <th>18090</th>\n",
       "      <td>1973</td>\n",
       "      <td>1973-2016</td>\n",
       "      <td>100284</td>\n",
       "      <td>Jimmy Connors</td>\n",
       "      <td>4.0</td>\n",
       "      <td>100058</td>\n",
       "      <td>Roger Taylor</td>\n",
       "      <td>11.0</td>\n",
       "      <td>NaN</td>\n",
       "      <td>NaN</td>\n",
       "      <td>NaN</td>\n",
       "      <td>NaN</td>\n",
       "    </tr>\n",
       "    <tr>\n",
       "      <th>18102</th>\n",
       "      <td>1973</td>\n",
       "      <td>1973-2016</td>\n",
       "      <td>100119</td>\n",
       "      <td>Ilie Nastase</td>\n",
       "      <td>1.0</td>\n",
       "      <td>100304</td>\n",
       "      <td>Robert Kreiss</td>\n",
       "      <td>193.0</td>\n",
       "      <td>NaN</td>\n",
       "      <td>NaN</td>\n",
       "      <td>NaN</td>\n",
       "      <td>NaN</td>\n",
       "    </tr>\n",
       "  </tbody>\n",
       "</table>\n",
       "</div>"
      ],
      "text/plain": [
       "       tourney_year tourney_id  winner_id    winner_name  winner_rank  \\\n",
       "18086          1973  1973-2016     100119   Ilie Nastase          1.0   \n",
       "18090          1973  1973-2016     100284  Jimmy Connors          4.0   \n",
       "18102          1973  1973-2016     100119   Ilie Nastase          1.0   \n",
       "\n",
       "       loser_id               loser_name  loser_rank  w_bpSaved  w_bpFaced  \\\n",
       "18086    100129  Jean Baptiste Chanfreau        88.0        NaN        NaN   \n",
       "18090    100058             Roger Taylor        11.0        NaN        NaN   \n",
       "18102    100304            Robert Kreiss       193.0        NaN        NaN   \n",
       "\n",
       "       l_bpSaved  l_bpFaced  \n",
       "18086        NaN        NaN  \n",
       "18090        NaN        NaN  \n",
       "18102        NaN        NaN  "
      ]
     },
     "execution_count": 74,
     "metadata": {},
     "output_type": "execute_result"
    }
   ],
   "source": [
    "new_df.head(3)"
   ]
  },
  {
   "cell_type": "code",
   "execution_count": 75,
   "metadata": {},
   "outputs": [
    {
     "data": {
      "text/plain": [
       "winner_name\n",
       "Roger Federer     1262\n",
       "Novak Djokovic    1098\n",
       "Rafael Nadal      1079\n",
       "Ivan Lendl         949\n",
       "Jimmy Connors      878\n",
       "Andre Agassi       867\n",
       "Stefan Edberg      796\n",
       "Pete Sampras       758\n",
       "John McEnroe       744\n",
       "Andy Murray        739\n",
       "Name: count, dtype: int64"
      ]
     },
     "execution_count": 75,
     "metadata": {},
     "output_type": "execute_result"
    }
   ],
   "source": [
    "# первые 10 игроков нового датасета\n",
    "new_df['winner_name'].value_counts().head(10)"
   ]
  },
  {
   "cell_type": "code",
   "execution_count": 76,
   "metadata": {},
   "outputs": [
    {
     "name": "stderr",
     "output_type": "stream",
     "text": [
      "C:\\Users\\Екатерина\\AppData\\Local\\Temp\\ipykernel_13368\\1251385276.py:5: SettingWithCopyWarning: \n",
      "A value is trying to be set on a copy of a slice from a DataFrame\n",
      "\n",
      "See the caveats in the documentation: https://pandas.pydata.org/pandas-docs/stable/user_guide/indexing.html#returning-a-view-versus-a-copy\n",
      "  win_df.drop(['loser_name', 'loser_id', 'l_bpSaved',\n",
      "C:\\Users\\Екатерина\\AppData\\Local\\Temp\\ipykernel_13368\\1251385276.py:7: SettingWithCopyWarning: \n",
      "A value is trying to be set on a copy of a slice from a DataFrame.\n",
      "Try using .loc[row_indexer,col_indexer] = value instead\n",
      "\n",
      "See the caveats in the documentation: https://pandas.pydata.org/pandas-docs/stable/user_guide/indexing.html#returning-a-view-versus-a-copy\n",
      "  win_df['w_bp_rate'] = win_df['w_bpSaved']/win_df['w_bpFaced']\n",
      "C:\\Users\\Екатерина\\AppData\\Local\\Temp\\ipykernel_13368\\1251385276.py:13: SettingWithCopyWarning: \n",
      "A value is trying to be set on a copy of a slice from a DataFrame\n",
      "\n",
      "See the caveats in the documentation: https://pandas.pydata.org/pandas-docs/stable/user_guide/indexing.html#returning-a-view-versus-a-copy\n",
      "  lose_df.drop(['winner_name', 'winner_id', 'w_bpSaved',\n",
      "C:\\Users\\Екатерина\\AppData\\Local\\Temp\\ipykernel_13368\\1251385276.py:15: SettingWithCopyWarning: \n",
      "A value is trying to be set on a copy of a slice from a DataFrame.\n",
      "Try using .loc[row_indexer,col_indexer] = value instead\n",
      "\n",
      "See the caveats in the documentation: https://pandas.pydata.org/pandas-docs/stable/user_guide/indexing.html#returning-a-view-versus-a-copy\n",
      "  lose_df['l_bp_rate'] = lose_df['l_bpSaved']/lose_df['l_bpFaced']\n"
     ]
    }
   ],
   "source": [
    "# Создание датафрейма с выбранными именами в победных матчах\n",
    "# Расчет доли выигранных брейк-поинтов для победителя\n",
    "win_df = new_df[new_df['winner_name'].isin(\n",
    "    [\"Roger Federer\", \"Novak Djokovic\", \"Rafael Nadal\"])]\n",
    "win_df.drop(['loser_name', 'loser_id', 'l_bpSaved',\n",
    "            'l_bpFaced', 'loser_rank'], axis=1, inplace=True)\n",
    "win_df['w_bp_rate'] = win_df['w_bpSaved']/win_df['w_bpFaced']\n",
    "\n",
    "# Создание датафрейма с выбранными именами в проигрышных матчах\n",
    "# Расчет доли выигранных брейк-поинтов для проигравшего\n",
    "lose_df = new_df[new_df['loser_name'].isin(\n",
    "    [\"Roger Federer\", \"Novak Djokovic\", \"Rafael Nadal\"])]\n",
    "lose_df.drop(['winner_name', 'winner_id', 'w_bpSaved',\n",
    "             'w_bpFaced', 'winner_rank'], axis=1, inplace=True)\n",
    "lose_df['l_bp_rate'] = lose_df['l_bpSaved']/lose_df['l_bpFaced']"
   ]
  },
  {
   "cell_type": "code",
   "execution_count": 77,
   "metadata": {},
   "outputs": [
    {
     "data": {
      "text/html": [
       "<div>\n",
       "<style scoped>\n",
       "    .dataframe tbody tr th:only-of-type {\n",
       "        vertical-align: middle;\n",
       "    }\n",
       "\n",
       "    .dataframe tbody tr th {\n",
       "        vertical-align: top;\n",
       "    }\n",
       "\n",
       "    .dataframe thead th {\n",
       "        text-align: right;\n",
       "    }\n",
       "</style>\n",
       "<table border=\"1\" class=\"dataframe\">\n",
       "  <thead>\n",
       "    <tr style=\"text-align: right;\">\n",
       "      <th></th>\n",
       "      <th>tourney_year</th>\n",
       "      <th>tourney_id</th>\n",
       "      <th>winner_id</th>\n",
       "      <th>winner_name</th>\n",
       "      <th>winner_rank</th>\n",
       "      <th>w_bpSaved</th>\n",
       "      <th>w_bpFaced</th>\n",
       "      <th>w_bp_rate</th>\n",
       "    </tr>\n",
       "  </thead>\n",
       "  <tbody>\n",
       "    <tr>\n",
       "      <th>158528</th>\n",
       "      <td>2012</td>\n",
       "      <td>2012-451</td>\n",
       "      <td>104745</td>\n",
       "      <td>Rafael Nadal</td>\n",
       "      <td>2.0</td>\n",
       "      <td>2.0</td>\n",
       "      <td>4.0</td>\n",
       "      <td>0.500000</td>\n",
       "    </tr>\n",
       "    <tr>\n",
       "      <th>188714</th>\n",
       "      <td>2022</td>\n",
       "      <td>2022-0605</td>\n",
       "      <td>104745</td>\n",
       "      <td>Rafael Nadal</td>\n",
       "      <td>2.0</td>\n",
       "      <td>2.0</td>\n",
       "      <td>2.0</td>\n",
       "      <td>1.000000</td>\n",
       "    </tr>\n",
       "    <tr>\n",
       "      <th>182579</th>\n",
       "      <td>2020</td>\n",
       "      <td>2020-560</td>\n",
       "      <td>104925</td>\n",
       "      <td>Novak Djokovic</td>\n",
       "      <td>1.0</td>\n",
       "      <td>3.0</td>\n",
       "      <td>5.0</td>\n",
       "      <td>0.600000</td>\n",
       "    </tr>\n",
       "    <tr>\n",
       "      <th>160056</th>\n",
       "      <td>2012</td>\n",
       "      <td>2012-520</td>\n",
       "      <td>103819</td>\n",
       "      <td>Roger Federer</td>\n",
       "      <td>3.0</td>\n",
       "      <td>1.0</td>\n",
       "      <td>3.0</td>\n",
       "      <td>0.333333</td>\n",
       "    </tr>\n",
       "    <tr>\n",
       "      <th>146284</th>\n",
       "      <td>2008</td>\n",
       "      <td>2008-1720</td>\n",
       "      <td>104925</td>\n",
       "      <td>Novak Djokovic</td>\n",
       "      <td>3.0</td>\n",
       "      <td>4.0</td>\n",
       "      <td>5.0</td>\n",
       "      <td>0.800000</td>\n",
       "    </tr>\n",
       "  </tbody>\n",
       "</table>\n",
       "</div>"
      ],
      "text/plain": [
       "        tourney_year tourney_id  winner_id     winner_name  winner_rank  \\\n",
       "158528          2012   2012-451     104745    Rafael Nadal          2.0   \n",
       "188714          2022  2022-0605     104745    Rafael Nadal          2.0   \n",
       "182579          2020   2020-560     104925  Novak Djokovic          1.0   \n",
       "160056          2012   2012-520     103819   Roger Federer          3.0   \n",
       "146284          2008  2008-1720     104925  Novak Djokovic          3.0   \n",
       "\n",
       "        w_bpSaved  w_bpFaced  w_bp_rate  \n",
       "158528        2.0        4.0   0.500000  \n",
       "188714        2.0        2.0   1.000000  \n",
       "182579        3.0        5.0   0.600000  \n",
       "160056        1.0        3.0   0.333333  \n",
       "146284        4.0        5.0   0.800000  "
      ]
     },
     "execution_count": 77,
     "metadata": {},
     "output_type": "execute_result"
    }
   ],
   "source": [
    "win_df.sample(5)"
   ]
  },
  {
   "cell_type": "code",
   "execution_count": 78,
   "metadata": {},
   "outputs": [
    {
     "data": {
      "text/plain": [
       "Text(0, 0.5, 'Количество матчей с победой')"
      ]
     },
     "execution_count": 78,
     "metadata": {},
     "output_type": "execute_result"
    },
    {
     "data": {
      "image/png": "[encoded data removed]",
      "text/plain": [
       "<Figure size 640x480 with 1 Axes>"
      ]
     },
     "metadata": {},
     "output_type": "display_data"
    }
   ],
   "source": [
    "# Для поиска подходящего периода времени (10 лет) необходимо проследить, в какие годы играли выбранные игроки\n",
    "# Для этого простроим график\n",
    "\n",
    "win_plot = win_df.groupby(['tourney_year', 'winner_name']).size(\n",
    ").unstack().plot(kind='bar', stacked=False, width=0.8)\n",
    "win_plot.set_title('Распределение побед по годам для каждого игрока')\n",
    "win_plot.set_xlabel('Год')\n",
    "win_plot.set_ylabel('Количество матчей с победой')"
   ]
  },
  {
   "cell_type": "markdown",
   "metadata": {},
   "source": [
    "Таким образом, выбраем период с 2006 по 2019 года, когда играли все 3 игрока "
   ]
  },
  {
   "cell_type": "code",
   "execution_count": 79,
   "metadata": {},
   "outputs": [],
   "source": [
    "# Преобразуем выборки для выбранного периода времени с 2006 по 2019г.\n",
    "\n",
    "filtered_win_df = win_df[(win_df['tourney_year'] >= 2006)\n",
    "                         & (win_df['tourney_year'] <= 2019)]\n",
    "filtered_lose_df = lose_df[(lose_df['tourney_year'] >= 2006) & (\n",
    "    lose_df['tourney_year'] <= 2019)]"
   ]
  },
  {
   "cell_type": "code",
   "execution_count": 80,
   "metadata": {},
   "outputs": [
    {
     "data": {
      "text/html": [
       "<div>\n",
       "<style scoped>\n",
       "    .dataframe tbody tr th:only-of-type {\n",
       "        vertical-align: middle;\n",
       "    }\n",
       "\n",
       "    .dataframe tbody tr th {\n",
       "        vertical-align: top;\n",
       "    }\n",
       "\n",
       "    .dataframe thead th {\n",
       "        text-align: right;\n",
       "    }\n",
       "</style>\n",
       "<table border=\"1\" class=\"dataframe\">\n",
       "  <thead>\n",
       "    <tr style=\"text-align: right;\">\n",
       "      <th></th>\n",
       "      <th>tourney_id</th>\n",
       "      <th>tourney_year</th>\n",
       "      <th>w_bp_rate</th>\n",
       "      <th>l_bp_rate</th>\n",
       "    </tr>\n",
       "  </thead>\n",
       "  <tbody>\n",
       "    <tr>\n",
       "      <th>0</th>\n",
       "      <td>2006-1536</td>\n",
       "      <td>2006</td>\n",
       "      <td>1.0</td>\n",
       "      <td>0.000000</td>\n",
       "    </tr>\n",
       "    <tr>\n",
       "      <th>1</th>\n",
       "      <td>2006-1536</td>\n",
       "      <td>2006</td>\n",
       "      <td>1.0</td>\n",
       "      <td>0.000000</td>\n",
       "    </tr>\n",
       "    <tr>\n",
       "      <th>2</th>\n",
       "      <td>2006-311</td>\n",
       "      <td>2006</td>\n",
       "      <td>1.0</td>\n",
       "      <td>0.846154</td>\n",
       "    </tr>\n",
       "  </tbody>\n",
       "</table>\n",
       "</div>"
      ],
      "text/plain": [
       "  tourney_id  tourney_year  w_bp_rate  l_bp_rate\n",
       "0  2006-1536          2006        1.0   0.000000\n",
       "1  2006-1536          2006        1.0   0.000000\n",
       "2   2006-311          2006        1.0   0.846154"
      ]
     },
     "execution_count": 80,
     "metadata": {},
     "output_type": "execute_result"
    }
   ],
   "source": [
    "# Создаем датасет для игрока Рафаэль Надаль и его долями выигранных брейк-поинтов\n",
    "\n",
    "rafael_nadal_wins = filtered_win_df[(filtered_win_df['winner_name'] == 'Rafael Nadal')][[\n",
    "    'tourney_id', 'tourney_year', 'w_bp_rate']]\n",
    "rafael_nadal_losses = filtered_lose_df[(\n",
    "    filtered_lose_df['loser_name'] == 'Rafael Nadal')][['tourney_id', 'l_bp_rate']]\n",
    "rafael_nadal_df = rafael_nadal_wins.merge(rafael_nadal_losses, on='tourney_id')\n",
    "rafael_nadal_df = rafael_nadal_df.dropna(subset=['w_bp_rate', 'l_bp_rate'])\n",
    "\n",
    "rafael_nadal_df.head(3)"
   ]
  },
  {
   "cell_type": "code",
   "execution_count": 81,
   "metadata": {},
   "outputs": [
    {
     "data": {
      "image/png": "[encoded data removed]",
      "text/plain": [
       "<Figure size 2000x400 with 2 Axes>"
      ]
     },
     "metadata": {},
     "output_type": "display_data"
    }
   ],
   "source": [
    "# Боксплот для игрока Рафаэль Надаль за выигрышные матчи и пригрышные\n",
    "\n",
    "fig, (ax1, ax2) = plt.subplots(1, 2, figsize=(20, 4))\n",
    "sns.boxplot(x='tourney_year', y='w_bp_rate',\n",
    "            data=rafael_nadal_df, color='green', ax=ax1)\n",
    "sns.boxplot(x='tourney_year', y='l_bp_rate',\n",
    "            data=rafael_nadal_df, color='yellow', ax=ax2)\n",
    "\n",
    "ax1.set_xlabel('Year')\n",
    "ax1.set_ylabel('Break Point Rate')\n",
    "ax1.set_title('Winned Games')\n",
    "ax1.tick_params(axis='x', rotation=45)\n",
    "\n",
    "ax2.set_xlabel('Year')\n",
    "ax2.set_ylabel('Break Point Rate')\n",
    "ax2.set_title('Losed Games')\n",
    "ax2.tick_params(axis='x', rotation=45)\n",
    "\n",
    "\n",
    "plt.show()"
   ]
  },
  {
   "cell_type": "code",
   "execution_count": 82,
   "metadata": {},
   "outputs": [
    {
     "data": {
      "text/html": [
       "<div>\n",
       "<style scoped>\n",
       "    .dataframe tbody tr th:only-of-type {\n",
       "        vertical-align: middle;\n",
       "    }\n",
       "\n",
       "    .dataframe tbody tr th {\n",
       "        vertical-align: top;\n",
       "    }\n",
       "\n",
       "    .dataframe thead th {\n",
       "        text-align: right;\n",
       "    }\n",
       "</style>\n",
       "<table border=\"1\" class=\"dataframe\">\n",
       "  <thead>\n",
       "    <tr style=\"text-align: right;\">\n",
       "      <th></th>\n",
       "      <th>tourney_id</th>\n",
       "      <th>tourney_year</th>\n",
       "      <th>w_bp_rate</th>\n",
       "      <th>l_bp_rate</th>\n",
       "    </tr>\n",
       "  </thead>\n",
       "  <tbody>\n",
       "    <tr>\n",
       "      <th>0</th>\n",
       "      <td>2006-1536</td>\n",
       "      <td>2006</td>\n",
       "      <td>0.500000</td>\n",
       "      <td>0.636364</td>\n",
       "    </tr>\n",
       "    <tr>\n",
       "      <th>1</th>\n",
       "      <td>2006-1536</td>\n",
       "      <td>2006</td>\n",
       "      <td>0.571429</td>\n",
       "      <td>0.636364</td>\n",
       "    </tr>\n",
       "    <tr>\n",
       "      <th>2</th>\n",
       "      <td>2006-2276</td>\n",
       "      <td>2006</td>\n",
       "      <td>0.714286</td>\n",
       "      <td>0.800000</td>\n",
       "    </tr>\n",
       "  </tbody>\n",
       "</table>\n",
       "</div>"
      ],
      "text/plain": [
       "  tourney_id  tourney_year  w_bp_rate  l_bp_rate\n",
       "0  2006-1536          2006   0.500000   0.636364\n",
       "1  2006-1536          2006   0.571429   0.636364\n",
       "2  2006-2276          2006   0.714286   0.800000"
      ]
     },
     "execution_count": 82,
     "metadata": {},
     "output_type": "execute_result"
    }
   ],
   "source": [
    "# Создаем датасет для игрока Новак Джокович и его долями выигранных брейк-поинтов\n",
    "\n",
    "Djokovic_wins = filtered_win_df[(filtered_win_df['winner_name'] == 'Novak Djokovic')][[\n",
    "    'tourney_id', 'tourney_year', 'w_bp_rate']]\n",
    "Djokovic_losses = filtered_lose_df[(\n",
    "    filtered_lose_df['loser_name'] == 'Novak Djokovic')][['tourney_id', 'l_bp_rate']]\n",
    "Djokovic_df = Djokovic_wins.merge(Djokovic_losses, on='tourney_id')\n",
    "Djokovic_df = Djokovic_df.dropna(subset=['w_bp_rate', 'l_bp_rate'])\n",
    "\n",
    "Djokovic_df.head(3)"
   ]
  },
  {
   "cell_type": "code",
   "execution_count": 83,
   "metadata": {},
   "outputs": [
    {
     "data": {
      "image/png": "[encoded data removed]",
      "text/plain": [
       "<Figure size 2000x400 with 2 Axes>"
      ]
     },
     "metadata": {},
     "output_type": "display_data"
    }
   ],
   "source": [
    "# Боксплот для игрока Новак Джокович за выигрышные матчи и пригрышные\n",
    "\n",
    "fig, (ax1, ax2) = plt.subplots(1, 2, figsize=(20, 4))\n",
    "sns.boxplot(x='tourney_year', y='w_bp_rate',\n",
    "            data=Djokovic_df, color='green', ax=ax1)\n",
    "sns.boxplot(x='tourney_year', y='l_bp_rate',\n",
    "            data=Djokovic_df, color='yellow', ax=ax2)\n",
    "\n",
    "ax1.set_xlabel('Year')\n",
    "ax1.set_ylabel('Break Point Rate')\n",
    "ax1.set_title('Winned Games')\n",
    "ax1.tick_params(axis='x', rotation=45)\n",
    "\n",
    "ax2.set_xlabel('Year')\n",
    "ax2.set_ylabel('Break Point Rate')\n",
    "ax2.set_title('Losed Games')\n",
    "ax2.tick_params(axis='x', rotation=45)\n",
    "\n",
    "\n",
    "plt.show()"
   ]
  },
  {
   "cell_type": "code",
   "execution_count": 84,
   "metadata": {},
   "outputs": [
    {
     "data": {
      "text/html": [
       "<div>\n",
       "<style scoped>\n",
       "    .dataframe tbody tr th:only-of-type {\n",
       "        vertical-align: middle;\n",
       "    }\n",
       "\n",
       "    .dataframe tbody tr th {\n",
       "        vertical-align: top;\n",
       "    }\n",
       "\n",
       "    .dataframe thead th {\n",
       "        text-align: right;\n",
       "    }\n",
       "</style>\n",
       "<table border=\"1\" class=\"dataframe\">\n",
       "  <thead>\n",
       "    <tr style=\"text-align: right;\">\n",
       "      <th></th>\n",
       "      <th>tourney_id</th>\n",
       "      <th>tourney_year</th>\n",
       "      <th>w_bp_rate</th>\n",
       "      <th>l_bp_rate</th>\n",
       "    </tr>\n",
       "  </thead>\n",
       "  <tbody>\n",
       "    <tr>\n",
       "      <th>0</th>\n",
       "      <td>2006-410</td>\n",
       "      <td>2006</td>\n",
       "      <td>0.0</td>\n",
       "      <td>0.5</td>\n",
       "    </tr>\n",
       "    <tr>\n",
       "      <th>2</th>\n",
       "      <td>2006-410</td>\n",
       "      <td>2006</td>\n",
       "      <td>1.0</td>\n",
       "      <td>0.5</td>\n",
       "    </tr>\n",
       "    <tr>\n",
       "      <th>3</th>\n",
       "      <td>2006-410</td>\n",
       "      <td>2006</td>\n",
       "      <td>0.8</td>\n",
       "      <td>0.5</td>\n",
       "    </tr>\n",
       "  </tbody>\n",
       "</table>\n",
       "</div>"
      ],
      "text/plain": [
       "  tourney_id  tourney_year  w_bp_rate  l_bp_rate\n",
       "0   2006-410          2006        0.0        0.5\n",
       "2   2006-410          2006        1.0        0.5\n",
       "3   2006-410          2006        0.8        0.5"
      ]
     },
     "execution_count": 84,
     "metadata": {},
     "output_type": "execute_result"
    }
   ],
   "source": [
    "# Создаем датасет для игрока Роджер Федерер и его долями выигранных брейк-поинтов\n",
    "\n",
    "Federer_wins = filtered_win_df[(filtered_win_df['winner_name'] == 'Roger Federer')][[\n",
    "    'tourney_id', 'tourney_year', 'w_bp_rate']]\n",
    "Federer_losses = filtered_lose_df[(\n",
    "    filtered_lose_df['loser_name'] == 'Roger Federer')][['tourney_id', 'l_bp_rate']]\n",
    "Federer_df = Federer_wins.merge(Federer_losses, on='tourney_id')\n",
    "Federer_df = Federer_df.dropna(subset=['w_bp_rate', 'l_bp_rate'])\n",
    "\n",
    "Federer_df.head(3)"
   ]
  },
  {
   "cell_type": "code",
   "execution_count": 85,
   "metadata": {},
   "outputs": [
    {
     "data": {
      "image/png": "[encoded data removed]",
      "text/plain": [
       "<Figure size 2000x400 with 2 Axes>"
      ]
     },
     "metadata": {},
     "output_type": "display_data"
    }
   ],
   "source": [
    "# Боксплот для игрока Роджер Федерер за выигрышные матчи и пригрышные\n",
    "\n",
    "fig, (ax1, ax2) = plt.subplots(1, 2, figsize=(20, 4))\n",
    "sns.boxplot(x='tourney_year', y='w_bp_rate',\n",
    "            data=Federer_df, color='green', ax=ax1)\n",
    "sns.boxplot(x='tourney_year', y='l_bp_rate',\n",
    "            data=Federer_df, color='yellow', ax=ax2)\n",
    "\n",
    "ax1.set_xlabel('Year')\n",
    "ax1.set_ylabel('Break Point Rate')\n",
    "ax1.set_title('Winned Games')\n",
    "ax1.tick_params(axis='x', rotation=45)\n",
    "\n",
    "ax2.set_xlabel('Year')\n",
    "ax2.set_ylabel('Break Point Rate')\n",
    "ax2.set_title('Losed Games')\n",
    "ax2.tick_params(axis='x', rotation=45)\n",
    "\n",
    "\n",
    "plt.show()"
   ]
  },
  {
   "cell_type": "code",
   "execution_count": 86,
   "metadata": {},
   "outputs": [
    {
     "name": "stdout",
     "output_type": "stream",
     "text": [
      "alpha = 0.05\n",
      "p=0.00000\n",
      "Мы отвергаем нулевую гипотезу.Данные распределены не нормально\n",
      "alpha = 0.05\n",
      "p=0.00000\n",
      "Мы отвергаем нулевую гипотезу.Данные распределены не нормально\n"
     ]
    }
   ],
   "source": [
    "# Проверка распределения на нормальность с помощью теста Шапиро-Уилка игрока Roger Federer\n",
    "shapiro_test_function(Federer_df, 'w_bp_rate')\n",
    "shapiro_test_function(Federer_df, 'l_bp_rate')"
   ]
  },
  {
   "cell_type": "code",
   "execution_count": 87,
   "metadata": {},
   "outputs": [
    {
     "name": "stdout",
     "output_type": "stream",
     "text": [
      "alpha = 0.05\n",
      "p=0.00000\n",
      "Мы отвергаем нулевую гипотезу.Данные распределены не нормально\n",
      "alpha = 0.05\n",
      "p=0.00009\n",
      "Мы отвергаем нулевую гипотезу.Данные распределены не нормально\n"
     ]
    }
   ],
   "source": [
    "# Проверка распределения на нормальность с помощью теста Шапиро-Уилка игрока Novak Djokovic\n",
    "shapiro_test_function(Djokovic_df, 'w_bp_rate')\n",
    "shapiro_test_function(Djokovic_df, 'l_bp_rate')"
   ]
  },
  {
   "cell_type": "code",
   "execution_count": 88,
   "metadata": {},
   "outputs": [
    {
     "name": "stdout",
     "output_type": "stream",
     "text": [
      "alpha = 0.05\n",
      "p=0.00000\n",
      "Мы отвергаем нулевую гипотезу.Данные распределены не нормально\n",
      "alpha = 0.05\n",
      "p=0.00000\n",
      "Мы отвергаем нулевую гипотезу.Данные распределены не нормально\n"
     ]
    }
   ],
   "source": [
    "# Проверка распределения на нормальность с помощью теста Шапиро-Уилка игрока Rafael Nadal\n",
    "shapiro_test_function(rafael_nadal_df, 'w_bp_rate')\n",
    "shapiro_test_function(rafael_nadal_df, 'l_bp_rate')"
   ]
  },
  {
   "cell_type": "markdown",
   "metadata": {},
   "source": [
    "Размер выборок"
   ]
  },
  {
   "cell_type": "code",
   "execution_count": 89,
   "metadata": {},
   "outputs": [
    {
     "name": "stdout",
     "output_type": "stream",
     "text": [
      "Размер первой выборки: (341, 4)\n",
      "Размер первой выборки: (348, 4)\n",
      "Размер первой выборки: (353, 4)\n"
     ]
    }
   ],
   "source": [
    "print(f'Размер первой выборки: {rafael_nadal_df.shape}')\n",
    "print(f'Размер первой выборки: {Federer_df.shape}')\n",
    "print(f'Размер первой выборки: {Djokovic_df.shape}')"
   ]
  },
  {
   "cell_type": "markdown",
   "metadata": {},
   "source": [
    "Вывод: по результатам теста Шапиро-Уилка все данные распределены не нормально. "
   ]
  },
  {
   "cell_type": "markdown",
   "metadata": {},
   "source": [
    "Для определения статистической рзницы далее необходимо выбрать соответствующий тест на основе следующих данных:\n",
    " - данные распределены не нормально по результатам теста Шапиро-Уилка --> непараметрический тест\n",
    " - объем данных более 340 в каждом датасете\n",
    " - необходимо выбрать тест для внутригруппового анализа - выяснить, является ли распределение по годам по 2 параметрам зависимым для каждого игрока. \n",
    " - необходимо выбрать тест для попарного сравнения всех трех игроков по среднему значению изучаемых параметров"
   ]
  },
  {
   "cell_type": "markdown",
   "metadata": {},
   "source": [
    "Вопрос из задания: Являются ли эти распределения по годам (по победным и по проигранным матчам) независимыми для каждого из игроков? \n",
    "\n",
    "В данном случае может подойти [тест Фридмана](https://docs.scipy.org/doc/scipy/reference/generated/scipy.stats.friedmanchisquare.html) , который предназначен для анализа различий в распределениях между парными или связанными выборками с ненормальным распределением. Он является непараметрическим аналогом однофакторного дисперсионного анализа для повторных измерений.\n",
    "\n",
    "Нулевая гипотеза (H0) для теста Фридмана заключается в том, что медианные значения w_bp_rate и l_bp_rate одинаковы во всех годах (то есть, распределение данных по годам независимо). Альтернативная гипотеза (H1) заключается в том, что по крайней мере в одном году медианные значения параметров отличаются от медианных значений хотя бы в одном другом году (то есть, существует зависимость распределения данных от года)."
   ]
  },
  {
   "cell_type": "code",
   "execution_count": 90,
   "metadata": {},
   "outputs": [],
   "source": [
    "# Подготовка датасета для проведения теста Фридмана\n",
    "# Она необходима, так как количетсво наблюдений за каждый год у нас отличается (в 2-3 раза)\n",
    "# Для того, чтобы не удалять данные мы будем рассчитывать медиану в тех строках, где данных больше\n",
    "\n",
    "# Функция принимает на вход датафрейм и на выходе выдает обработанный датафрейм с таким же названием.\n",
    "def balance_function(df):\n",
    "\n",
    "    # Шаг 1: Группировка по году и подсчет количества наблюдений\n",
    "    counts_per_year = df.groupby(\n",
    "        'tourney_year').size().reset_index(name='count')\n",
    "\n",
    "    # Шаг 2: Нахождение наименьшего количества наблюдений\n",
    "    min_count = counts_per_year['count'].min()\n",
    "\n",
    "    # Создаем новый DataFrame для сбалансированных данных\n",
    "    balanced_df = pd.DataFrame()\n",
    "\n",
    "    # Проходимся по каждому году\n",
    "    for year in counts_per_year['tourney_year']:\n",
    "        # Отфильтровываем данные за текущий год\n",
    "        year_data = df[df['tourney_year'] == year]\n",
    "\n",
    "        # Вычисляем коэффициент для объединения строк\n",
    "        factor = len(year_data) / min_count\n",
    "\n",
    "        # Создаем временный список для медиан\n",
    "        medians = []\n",
    "\n",
    "        # Объединяем соседние строки и вычисляем медиану\n",
    "        for i in range(min_count):\n",
    "            # Определяем индексы строк для объединения\n",
    "            start_idx = int(i * factor)\n",
    "            end_idx = int((i + 1) * factor)\n",
    "            if i == min_count - 1:\n",
    "                # Убедимся, что включаем все оставшиеся строки\n",
    "                end_idx = len(year_data)\n",
    "\n",
    "            # Получаем срез данных для группировки\n",
    "            subset = year_data.iloc[start_idx:end_idx]\n",
    "\n",
    "            # Вычисляем медиану только для числовых столбцов\n",
    "            numeric_subset = subset.select_dtypes(include=[np.number])\n",
    "            median_values = numeric_subset.median()\n",
    "            # Добавляем год к медианным значениям\n",
    "            median_values['tourney_year'] = year\n",
    "            medians.append(median_values)\n",
    "\n",
    "        # Создаем DataFrame из медиан и добавляем в сбалансированный DataFrame\n",
    "        median_df = pd.DataFrame(medians)\n",
    "        balanced_df = pd.concat([balanced_df, median_df], ignore_index=True)\n",
    "    return balanced_df"
   ]
  },
  {
   "cell_type": "code",
   "execution_count": 91,
   "metadata": {},
   "outputs": [
    {
     "data": {
      "text/html": [
       "<div>\n",
       "<style scoped>\n",
       "    .dataframe tbody tr th:only-of-type {\n",
       "        vertical-align: middle;\n",
       "    }\n",
       "\n",
       "    .dataframe tbody tr th {\n",
       "        vertical-align: top;\n",
       "    }\n",
       "\n",
       "    .dataframe thead th {\n",
       "        text-align: right;\n",
       "    }\n",
       "</style>\n",
       "<table border=\"1\" class=\"dataframe\">\n",
       "  <thead>\n",
       "    <tr style=\"text-align: right;\">\n",
       "      <th></th>\n",
       "      <th>tourney_year</th>\n",
       "      <th>count</th>\n",
       "    </tr>\n",
       "  </thead>\n",
       "  <tbody>\n",
       "    <tr>\n",
       "      <th>0</th>\n",
       "      <td>2006</td>\n",
       "      <td>21</td>\n",
       "    </tr>\n",
       "    <tr>\n",
       "      <th>1</th>\n",
       "      <td>2007</td>\n",
       "      <td>35</td>\n",
       "    </tr>\n",
       "    <tr>\n",
       "      <th>2</th>\n",
       "      <td>2008</td>\n",
       "      <td>38</td>\n",
       "    </tr>\n",
       "    <tr>\n",
       "      <th>3</th>\n",
       "      <td>2009</td>\n",
       "      <td>50</td>\n",
       "    </tr>\n",
       "    <tr>\n",
       "      <th>4</th>\n",
       "      <td>2010</td>\n",
       "      <td>40</td>\n",
       "    </tr>\n",
       "    <tr>\n",
       "      <th>5</th>\n",
       "      <td>2011</td>\n",
       "      <td>11</td>\n",
       "    </tr>\n",
       "    <tr>\n",
       "      <th>6</th>\n",
       "      <td>2012</td>\n",
       "      <td>35</td>\n",
       "    </tr>\n",
       "    <tr>\n",
       "      <th>7</th>\n",
       "      <td>2013</td>\n",
       "      <td>26</td>\n",
       "    </tr>\n",
       "    <tr>\n",
       "      <th>8</th>\n",
       "      <td>2014</td>\n",
       "      <td>22</td>\n",
       "    </tr>\n",
       "    <tr>\n",
       "      <th>9</th>\n",
       "      <td>2015</td>\n",
       "      <td>18</td>\n",
       "    </tr>\n",
       "    <tr>\n",
       "      <th>10</th>\n",
       "      <td>2016</td>\n",
       "      <td>20</td>\n",
       "    </tr>\n",
       "    <tr>\n",
       "      <th>11</th>\n",
       "      <td>2017</td>\n",
       "      <td>12</td>\n",
       "    </tr>\n",
       "    <tr>\n",
       "      <th>12</th>\n",
       "      <td>2018</td>\n",
       "      <td>10</td>\n",
       "    </tr>\n",
       "    <tr>\n",
       "      <th>13</th>\n",
       "      <td>2019</td>\n",
       "      <td>15</td>\n",
       "    </tr>\n",
       "  </tbody>\n",
       "</table>\n",
       "</div>"
      ],
      "text/plain": [
       "    tourney_year  count\n",
       "0           2006     21\n",
       "1           2007     35\n",
       "2           2008     38\n",
       "3           2009     50\n",
       "4           2010     40\n",
       "5           2011     11\n",
       "6           2012     35\n",
       "7           2013     26\n",
       "8           2014     22\n",
       "9           2015     18\n",
       "10          2016     20\n",
       "11          2017     12\n",
       "12          2018     10\n",
       "13          2019     15"
      ]
     },
     "execution_count": 91,
     "metadata": {},
     "output_type": "execute_result"
    }
   ],
   "source": [
    "# Проверка исходного датасета\n",
    "test = Djokovic_df.groupby('tourney_year').agg(\n",
    "    count=('w_bp_rate', 'count')).reset_index()\n",
    "test.head(15)"
   ]
  },
  {
   "cell_type": "code",
   "execution_count": 92,
   "metadata": {},
   "outputs": [],
   "source": [
    "rafael_nadal_balanced = balance_function(rafael_nadal_df)\n",
    "Djokovic_balanced = balance_function(Djokovic_df)\n",
    "Federer_balanced = balance_function(Federer_df)"
   ]
  },
  {
   "cell_type": "code",
   "execution_count": 93,
   "metadata": {},
   "outputs": [
    {
     "data": {
      "text/html": [
       "<div>\n",
       "<style scoped>\n",
       "    .dataframe tbody tr th:only-of-type {\n",
       "        vertical-align: middle;\n",
       "    }\n",
       "\n",
       "    .dataframe tbody tr th {\n",
       "        vertical-align: top;\n",
       "    }\n",
       "\n",
       "    .dataframe thead th {\n",
       "        text-align: right;\n",
       "    }\n",
       "</style>\n",
       "<table border=\"1\" class=\"dataframe\">\n",
       "  <thead>\n",
       "    <tr style=\"text-align: right;\">\n",
       "      <th></th>\n",
       "      <th>tourney_year</th>\n",
       "      <th>count</th>\n",
       "    </tr>\n",
       "  </thead>\n",
       "  <tbody>\n",
       "    <tr>\n",
       "      <th>0</th>\n",
       "      <td>2006.0</td>\n",
       "      <td>10</td>\n",
       "    </tr>\n",
       "    <tr>\n",
       "      <th>1</th>\n",
       "      <td>2007.0</td>\n",
       "      <td>10</td>\n",
       "    </tr>\n",
       "    <tr>\n",
       "      <th>2</th>\n",
       "      <td>2008.0</td>\n",
       "      <td>10</td>\n",
       "    </tr>\n",
       "    <tr>\n",
       "      <th>3</th>\n",
       "      <td>2009.0</td>\n",
       "      <td>10</td>\n",
       "    </tr>\n",
       "    <tr>\n",
       "      <th>4</th>\n",
       "      <td>2010.0</td>\n",
       "      <td>10</td>\n",
       "    </tr>\n",
       "    <tr>\n",
       "      <th>5</th>\n",
       "      <td>2011.0</td>\n",
       "      <td>10</td>\n",
       "    </tr>\n",
       "    <tr>\n",
       "      <th>6</th>\n",
       "      <td>2012.0</td>\n",
       "      <td>10</td>\n",
       "    </tr>\n",
       "    <tr>\n",
       "      <th>7</th>\n",
       "      <td>2013.0</td>\n",
       "      <td>10</td>\n",
       "    </tr>\n",
       "    <tr>\n",
       "      <th>8</th>\n",
       "      <td>2014.0</td>\n",
       "      <td>10</td>\n",
       "    </tr>\n",
       "    <tr>\n",
       "      <th>9</th>\n",
       "      <td>2015.0</td>\n",
       "      <td>10</td>\n",
       "    </tr>\n",
       "    <tr>\n",
       "      <th>10</th>\n",
       "      <td>2016.0</td>\n",
       "      <td>10</td>\n",
       "    </tr>\n",
       "    <tr>\n",
       "      <th>11</th>\n",
       "      <td>2017.0</td>\n",
       "      <td>10</td>\n",
       "    </tr>\n",
       "    <tr>\n",
       "      <th>12</th>\n",
       "      <td>2018.0</td>\n",
       "      <td>10</td>\n",
       "    </tr>\n",
       "    <tr>\n",
       "      <th>13</th>\n",
       "      <td>2019.0</td>\n",
       "      <td>10</td>\n",
       "    </tr>\n",
       "  </tbody>\n",
       "</table>\n",
       "</div>"
      ],
      "text/plain": [
       "    tourney_year  count\n",
       "0         2006.0     10\n",
       "1         2007.0     10\n",
       "2         2008.0     10\n",
       "3         2009.0     10\n",
       "4         2010.0     10\n",
       "5         2011.0     10\n",
       "6         2012.0     10\n",
       "7         2013.0     10\n",
       "8         2014.0     10\n",
       "9         2015.0     10\n",
       "10        2016.0     10\n",
       "11        2017.0     10\n",
       "12        2018.0     10\n",
       "13        2019.0     10"
      ]
     },
     "execution_count": 93,
     "metadata": {},
     "output_type": "execute_result"
    }
   ],
   "source": [
    "# Проверка датасета после сбалансирования\n",
    "test = Djokovic_balanced.groupby('tourney_year').agg(\n",
    "    count=('w_bp_rate', 'count')).reset_index()\n",
    "test.head(15)"
   ]
  },
  {
   "cell_type": "code",
   "execution_count": 94,
   "metadata": {},
   "outputs": [],
   "source": [
    "# Функция для проведения теста Фридмана с группировкой данных по годам\n",
    "# Функция на вход принимает датафрейм, значение альфа (по дефолту 0.05)\n",
    "\n",
    "def fridman_function(df, alpha=0.05):\n",
    "    # Группировка данных по годам и расчет медианных значений для каждого года\n",
    "    grouped = df.groupby('tourney_year')\n",
    "\n",
    "    # Списки для хранения медианных значений по каждому году\n",
    "    w_bp_rate_by_year = []\n",
    "    l_bp_rate_by_year = []\n",
    "\n",
    "    for name, group in grouped:\n",
    "        w_bp_rate_by_year.append(group['w_bp_rate'].tolist())\n",
    "        l_bp_rate_by_year.append(group['l_bp_rate'].tolist())\n",
    "\n",
    "    # Проведение теста Фридмана\n",
    "    # Применение для w_bp_rate\n",
    "    __, p_value = friedmanchisquare(*w_bp_rate_by_year)\n",
    "    print(f'alpha = {alpha}')\n",
    "    print(f'p-value: {round(p_value,5)}')\n",
    "\n",
    "    # Интерпретация результатов\n",
    "    if p_value > alpha:\n",
    "        print('Нулевая гипотеза не отвергнута: распределения w_bp_rate независимы по годам')\n",
    "    else:\n",
    "        print('Нулевая гипотеза отвергнута: существует зависимость w_bp_rate от года')\n",
    "\n",
    "    # Аналогично для l_bp_rate\n",
    "    __, p_value = friedmanchisquare(*l_bp_rate_by_year)\n",
    "    print(f'alpha = {alpha}')\n",
    "    print(f'p-value: {round(p_value,5)}')\n",
    "\n",
    "    if p_value > alpha:\n",
    "        print('Нулевая гипотеза не отвергнута: распределения l_bp_rate независимы по годам')\n",
    "    else:\n",
    "        print('Нулевая гипотеза отвергнута: существует зависимость l_bp_rate от года')"
   ]
  },
  {
   "cell_type": "code",
   "execution_count": 95,
   "metadata": {},
   "outputs": [
    {
     "name": "stdout",
     "output_type": "stream",
     "text": [
      "Результаты теста для игрока Рафаэль Надаль\n",
      "alpha = 0.05\n",
      "p-value: 0.5445\n",
      "Нулевая гипотеза не отвергнута: распределения w_bp_rate независимы по годам\n",
      "alpha = 0.05\n",
      "p-value: 0.01347\n",
      "Нулевая гипотеза отвергнута: существует зависимость l_bp_rate от года\n"
     ]
    }
   ],
   "source": [
    "print('Результаты теста для игрока Рафаэль Надаль')\n",
    "fridman_function(rafael_nadal_balanced)"
   ]
  },
  {
   "cell_type": "code",
   "execution_count": 96,
   "metadata": {},
   "outputs": [
    {
     "name": "stdout",
     "output_type": "stream",
     "text": [
      "Результаты теста для игрока Новак Джокович\n",
      "alpha = 0.05\n",
      "p-value: 0.81001\n",
      "Нулевая гипотеза не отвергнута: распределения w_bp_rate независимы по годам\n",
      "alpha = 0.05\n",
      "p-value: 0.37977\n",
      "Нулевая гипотеза не отвергнута: распределения l_bp_rate независимы по годам\n"
     ]
    }
   ],
   "source": [
    "print('Результаты теста для игрока Новак Джокович')\n",
    "fridman_function(Djokovic_balanced)"
   ]
  },
  {
   "cell_type": "code",
   "execution_count": 97,
   "metadata": {},
   "outputs": [
    {
     "name": "stdout",
     "output_type": "stream",
     "text": [
      "Результаты теста для игрока Роджер Федерер\n",
      "alpha = 0.05\n",
      "p-value: 0.83846\n",
      "Нулевая гипотеза не отвергнута: распределения w_bp_rate независимы по годам\n",
      "alpha = 0.05\n",
      "p-value: 0.33301\n",
      "Нулевая гипотеза не отвергнута: распределения l_bp_rate независимы по годам\n"
     ]
    }
   ],
   "source": [
    "print('Результаты теста для игрока Роджер Федерер')\n",
    "fridman_function(Federer_balanced)"
   ]
  },
  {
   "cell_type": "markdown",
   "metadata": {},
   "source": [
    "Таким образом по результату теста Фримана была выявлена зависимость по годам у игрока Рафаэль Надаль: существует зависимость l_bp_rate (доля брейкпоинтов в проигрышных матчах) от года.\n",
    "\n",
    "У остальных игроков зависимость не была установлена ни по одному изучаемому парамтеру."
   ]
  },
  {
   "cell_type": "markdown",
   "metadata": {},
   "source": [
    "Вопрос из задания:  Если сравнивать эту статистику между игроками — будет ли разница в средних для проигранных и выигранных матчей значимой попарно между всеми игроками?\n",
    "\n",
    "Для проведения статистического попарного сравнения между тремя игроками подходит **тест Краскела-Уоллиса**, который позволяет сравнивать медианы двух независимых выборок с ненормальным распределением. Тест позволит определить, есть ли статистически значимые различия между медианами выигрышных и проигрышных брейкпоинтов разных игроков. Теста Краскела-Уоллиса проверяет гипотезу о том, что медианы всех групп равны. Если тест показывает, что медианы не равны, это не указывает на то, какие именно группы различаются. Для определения различающихся групп необходим дополнительный пост-хок анализ с поправкой на множественное тестирование."
   ]
  },
  {
   "cell_type": "code",
   "execution_count": 98,
   "metadata": {},
   "outputs": [],
   "source": [
    "# Функция для проведения теста Краскела-Уоллиса\n",
    "# Принимает на вход два сравниваемых датафрейма, столбец для сравнения, значение альфа (по дефолту - 0.05)\n",
    "\n",
    "def kruskal_function(data_player1, data_player2, col, alpha=0.05):\n",
    "    __, p = kruskal(data_player1[col], data_player2[col])\n",
    "    alpha = alpha\n",
    "    print(f'alpha = {alpha}')\n",
    "    print('p-value =', round(p, 5))\n",
    "    if (p < alpha):\n",
    "        print(\"Отвергаем нулевую гипотезу.\")\n",
    "        print(f'Альтернативная гипотеза. H1: {H1}')\n",
    "    else:\n",
    "        print(f'Принимаем нулевую гипотезу. {H0}')"
   ]
  },
  {
   "cell_type": "code",
   "execution_count": 99,
   "metadata": {},
   "outputs": [
    {
     "name": "stdout",
     "output_type": "stream",
     "text": [
      "alpha = 0.05\n",
      "p-value = 0.00884\n",
      "Отвергаем нулевую гипотезу.\n",
      "Альтернативная гипотеза. H1: Есть значимая разница между средними показателями w_bp_rate у двух выбранных игроков (Медианы двух игрков не равны).\n",
      "alpha = 0.05\n",
      "p-value = 0.05316\n",
      "Принимаем нулевую гипотезу. Нет значимой разницы между средними показателями l_bp_rate у двух выбранных игроков (Медианы двух игрков равны).\n"
     ]
    }
   ],
   "source": [
    "# тест Краскела-Уоллиса на определение статистической независимости игроков попарно\n",
    "# Тест для игроков Р. Надаль и Р. Федерер\n",
    "\n",
    "# Формулирование гипотез для показателя w_bp_rate\n",
    "H0 = 'Нет значимой разницы между средними показателями w_bp_rate у двух выбранных игроков (Медианы двух игрков равны).'\n",
    "H1 = 'Есть значимая разница между средними показателями w_bp_rate у двух выбранных игроков (Медианы двух игрков не равны).'\n",
    "\n",
    "kruskal_function(rafael_nadal_df, Federer_df, 'w_bp_rate')\n",
    "\n",
    "# Формулирование гипотез для показателя w_bp_rate\n",
    "H0 = 'Нет значимой разницы между средними показателями l_bp_rate у двух выбранных игроков (Медианы двух игрков равны).'\n",
    "H1 = 'Есть значимая разница между средними показателями l_bp_rate и у двух выбранных игроков (Медианы двух игрков не равны).'\n",
    "\n",
    "kruskal_function(rafael_nadal_df, Federer_df, 'l_bp_rate')"
   ]
  },
  {
   "cell_type": "markdown",
   "metadata": {},
   "source": [
    "По результатам теста мы можем предположить, что между игроками Р. Надаль и Р. Федерер есть статистически значимая разница в средних показателях для выигранных матчей. "
   ]
  },
  {
   "cell_type": "code",
   "execution_count": 100,
   "metadata": {},
   "outputs": [
    {
     "name": "stdout",
     "output_type": "stream",
     "text": [
      "alpha = 0.05\n",
      "p-value = 0.34934\n",
      "Принимаем нулевую гипотезу. Нет значимой разницы между средними показателями w_bp_rate у двух выбранных игроков (Медианы двух игрков равны).\n",
      "alpha = 0.05\n",
      "p-value = 0.80953\n",
      "Принимаем нулевую гипотезу. Нет значимой разницы между средними показателями l_bp_rate у двух выбранных игроков (Медианы двух игрков равны).\n"
     ]
    }
   ],
   "source": [
    "# тест Краскела-Уоллиса на определение статистической независимости игроков попарно\n",
    "# Тест для игроков Р. Надаль и Н. Джокович\n",
    "\n",
    "# Формулирование гипотез для показателя w_bp_rate\n",
    "H0 = 'Нет значимой разницы между средними показателями w_bp_rate у двух выбранных игроков (Медианы двух игрков равны).'\n",
    "H1 = 'Есть значимая разница между средними показателями w_bp_rate у двух выбранных игроков (Медианы двух игрков не равны).'\n",
    "\n",
    "kruskal_function(rafael_nadal_df, Djokovic_df, 'w_bp_rate')\n",
    "\n",
    "# Формулирование гипотез для показателя w_bp_rate\n",
    "H0 = 'Нет значимой разницы между средними показателями l_bp_rate у двух выбранных игроков (Медианы двух игрков равны).'\n",
    "H1 = 'Есть значимая разница между средними показателями l_bp_rate и у двух выбранных игроков (Медианы двух игрков не равны).'\n",
    "\n",
    "kruskal_function(rafael_nadal_df, Djokovic_df, 'l_bp_rate')"
   ]
  },
  {
   "cell_type": "markdown",
   "metadata": {},
   "source": [
    "По результатам теста между игроками Р. Надаль и Н. Джокович можно предположить, что разницы в средних показателях для выигранных и проигранных матчей нет. "
   ]
  },
  {
   "cell_type": "code",
   "execution_count": 101,
   "metadata": {},
   "outputs": [
    {
     "name": "stdout",
     "output_type": "stream",
     "text": [
      "alpha = 0.05\n",
      "p-value = 0.00051\n",
      "Отвергаем нулевую гипотезу.\n",
      "Альтернативная гипотеза. H1: Есть значимая разница между средними показателями w_bp_rate у двух выбранных игроков (Медианы двух игрков не равны).\n",
      "alpha = 0.05\n",
      "p-value = 0.01608\n",
      "Отвергаем нулевую гипотезу.\n",
      "Альтернативная гипотеза. H1: Есть значимая разница между  средними показателями l_bp_rate и у двух выбранных игроков (Медианы двух игрков не равны).\n"
     ]
    }
   ],
   "source": [
    "# тест Краскела-Уоллиса на определение статистической независимости игроков попарно\n",
    "# Тест для игроков Н. Джокович и Р. Федерер\n",
    "\n",
    "# Формулирование гипотез для показателя w_bp_rate\n",
    "H0 = 'Нет значимой разницы между средними показателями w_bp_rate у двух выбранных игроков (Медианы двух игрков равны).'\n",
    "H1 = 'Есть значимая разница между средними показателями w_bp_rate у двух выбранных игроков (Медианы двух игрков не равны).'\n",
    "\n",
    "kruskal_function(Djokovic_df, Federer_df, 'w_bp_rate')\n",
    "\n",
    "# Формулирование гипотез для показателя w_bp_rate\n",
    "H0 = 'Нет значимой разницы между средними показателями l_bp_rate у двух выбранных игроков (Медианы двух игрков равны).'\n",
    "H1 = 'Есть значимая разница между  средними показателями l_bp_rate и у двух выбранных игроков (Медианы двух игрков не равны).'\n",
    "\n",
    "kruskal_function(Djokovic_df, Federer_df, 'l_bp_rate')"
   ]
  },
  {
   "cell_type": "markdown",
   "metadata": {},
   "source": [
    "По результатам теста мы можем предположить, что между игроками Н. Джокович и Р. Федерер есть статистически значимая разница в средних показателях для выигранных и проигранных матчей. "
   ]
  },
  {
   "cell_type": "markdown",
   "metadata": {},
   "source": [
    "# Задание 5"
   ]
  },
  {
   "cell_type": "markdown",
   "metadata": {},
   "source": [
    "У вас есть гипотеза, что доля выигранных брейк-поинтов связана с вероятностью победить в игре.\n",
    "\n",
    "Соберите статистику, где для каждого матча будет собран его исход (победа/поражение) и доля выигранных брейк-поинтов (не забудьте, что в матче два игрока). Разделите долю выигранных брейкпоинтов на группы выше/ниже медианы и, используя информацию о исходе матча, проверьте зависимость между количеством выигранных брейкпоинтов и результатом матча. Насколько сильна эта зависимость? Выбор статистического теста обоснуйте."
   ]
  },
  {
   "cell_type": "code",
   "execution_count": 102,
   "metadata": {},
   "outputs": [],
   "source": [
    "# копируем датасет\n",
    "df3 = df_1.copy()"
   ]
  },
  {
   "cell_type": "code",
   "execution_count": 103,
   "metadata": {},
   "outputs": [],
   "source": [
    "# Формирование выборки\n",
    "\n",
    "# Выделяем необходимые столбцы\n",
    "filter_df = df3[['tourney_id', 'tourney_year', 'winner_id', 'winner_name', 'loser_id',\n",
    "                 'loser_name', 'w_bpSaved', 'w_bpFaced', 'l_bpSaved', 'l_bpFaced']].dropna()\n",
    "\n",
    "# Удаление дубликатов\n",
    "filter_df = filter_df.drop_duplicates()\n",
    "\n",
    "# Создание нового признака - доля выигранных и проигранных брейкпоинтов для каждого матча\n",
    "filter_df['w_bp_ratio'] = filter_df['w_bpSaved'] / filter_df['w_bpFaced']\n",
    "filter_df['l_bp_ratio'] = filter_df['l_bpSaved'] / filter_df['l_bpFaced']"
   ]
  },
  {
   "cell_type": "code",
   "execution_count": 104,
   "metadata": {},
   "outputs": [
    {
     "data": {
      "text/html": [
       "<div>\n",
       "<style scoped>\n",
       "    .dataframe tbody tr th:only-of-type {\n",
       "        vertical-align: middle;\n",
       "    }\n",
       "\n",
       "    .dataframe tbody tr th {\n",
       "        vertical-align: top;\n",
       "    }\n",
       "\n",
       "    .dataframe thead th {\n",
       "        text-align: right;\n",
       "    }\n",
       "</style>\n",
       "<table border=\"1\" class=\"dataframe\">\n",
       "  <thead>\n",
       "    <tr style=\"text-align: right;\">\n",
       "      <th></th>\n",
       "      <th>tourney_id</th>\n",
       "      <th>tourney_year</th>\n",
       "      <th>winner_id</th>\n",
       "      <th>winner_name</th>\n",
       "      <th>loser_id</th>\n",
       "      <th>loser_name</th>\n",
       "      <th>w_bpSaved</th>\n",
       "      <th>w_bpFaced</th>\n",
       "      <th>l_bpSaved</th>\n",
       "      <th>l_bpFaced</th>\n",
       "      <th>w_bp_ratio</th>\n",
       "      <th>l_bp_ratio</th>\n",
       "    </tr>\n",
       "  </thead>\n",
       "  <tbody>\n",
       "    <tr>\n",
       "      <th>86621</th>\n",
       "      <td>1991-339</td>\n",
       "      <td>1990</td>\n",
       "      <td>101723</td>\n",
       "      <td>Magnus Larsson</td>\n",
       "      <td>101414</td>\n",
       "      <td>Boris Becker</td>\n",
       "      <td>2.0</td>\n",
       "      <td>4.0</td>\n",
       "      <td>6.0</td>\n",
       "      <td>8.0</td>\n",
       "      <td>0.5</td>\n",
       "      <td>0.75</td>\n",
       "    </tr>\n",
       "    <tr>\n",
       "      <th>86622</th>\n",
       "      <td>1991-339</td>\n",
       "      <td>1990</td>\n",
       "      <td>100946</td>\n",
       "      <td>Slobodan Zivojinovic</td>\n",
       "      <td>101256</td>\n",
       "      <td>Mark Kratzmann</td>\n",
       "      <td>9.0</td>\n",
       "      <td>10.0</td>\n",
       "      <td>1.0</td>\n",
       "      <td>2.0</td>\n",
       "      <td>0.9</td>\n",
       "      <td>0.50</td>\n",
       "    </tr>\n",
       "    <tr>\n",
       "      <th>86623</th>\n",
       "      <td>1991-339</td>\n",
       "      <td>1990</td>\n",
       "      <td>101234</td>\n",
       "      <td>Patrik Kuhnen</td>\n",
       "      <td>101421</td>\n",
       "      <td>Veli Paloheimo</td>\n",
       "      <td>1.0</td>\n",
       "      <td>1.0</td>\n",
       "      <td>4.0</td>\n",
       "      <td>8.0</td>\n",
       "      <td>1.0</td>\n",
       "      <td>0.50</td>\n",
       "    </tr>\n",
       "  </tbody>\n",
       "</table>\n",
       "</div>"
      ],
      "text/plain": [
       "      tourney_id  tourney_year  winner_id           winner_name  loser_id  \\\n",
       "86621   1991-339          1990     101723        Magnus Larsson    101414   \n",
       "86622   1991-339          1990     100946  Slobodan Zivojinovic    101256   \n",
       "86623   1991-339          1990     101234         Patrik Kuhnen    101421   \n",
       "\n",
       "           loser_name  w_bpSaved  w_bpFaced  l_bpSaved  l_bpFaced  w_bp_ratio  \\\n",
       "86621    Boris Becker        2.0        4.0        6.0        8.0         0.5   \n",
       "86622  Mark Kratzmann        9.0       10.0        1.0        2.0         0.9   \n",
       "86623  Veli Paloheimo        1.0        1.0        4.0        8.0         1.0   \n",
       "\n",
       "       l_bp_ratio  \n",
       "86621        0.75  \n",
       "86622        0.50  \n",
       "86623        0.50  "
      ]
     },
     "execution_count": 104,
     "metadata": {},
     "output_type": "execute_result"
    }
   ],
   "source": [
    "filter_df.head(3)"
   ]
  },
  {
   "cell_type": "code",
   "execution_count": 105,
   "metadata": {},
   "outputs": [],
   "source": [
    "# Медиана для новых признаков\n",
    "w_median_ratio = filter_df['w_bp_ratio'].median()\n",
    "l_median_ratio = filter_df['l_bp_ratio'].median()"
   ]
  },
  {
   "cell_type": "code",
   "execution_count": 106,
   "metadata": {},
   "outputs": [
    {
     "data": {
      "text/plain": [
       "0.6666666666666666"
      ]
     },
     "execution_count": 106,
     "metadata": {},
     "output_type": "execute_result"
    }
   ],
   "source": [
    "w_median_ratio"
   ]
  },
  {
   "cell_type": "code",
   "execution_count": 107,
   "metadata": {},
   "outputs": [],
   "source": [
    "# Разделение выигравших и проигравших\n",
    "win = filter_df[['tourney_year', 'winner_id', 'w_bp_ratio']].rename(\n",
    "    columns={'winner_id': 'id', 'w_bp_ratio': 'ratio'}).drop_duplicates()\n",
    "lose = filter_df[['tourney_year', 'loser_id', 'l_bp_ratio']].rename(\n",
    "    columns={'loser_id': 'id', 'l_bp_ratio': 'ratio'}).drop_duplicates()\n",
    "\n",
    "# Для верификации победы или поражения добавляем столбец, где 1 - победа, 0 - проигрыш для игрока\n",
    "win['result'] = 1\n",
    "lose['result'] = 0"
   ]
  },
  {
   "cell_type": "code",
   "execution_count": 108,
   "metadata": {},
   "outputs": [
    {
     "data": {
      "text/html": [
       "<div>\n",
       "<style scoped>\n",
       "    .dataframe tbody tr th:only-of-type {\n",
       "        vertical-align: middle;\n",
       "    }\n",
       "\n",
       "    .dataframe tbody tr th {\n",
       "        vertical-align: top;\n",
       "    }\n",
       "\n",
       "    .dataframe thead th {\n",
       "        text-align: right;\n",
       "    }\n",
       "</style>\n",
       "<table border=\"1\" class=\"dataframe\">\n",
       "  <thead>\n",
       "    <tr style=\"text-align: right;\">\n",
       "      <th></th>\n",
       "      <th>tourney_year</th>\n",
       "      <th>id</th>\n",
       "      <th>ratio</th>\n",
       "      <th>result</th>\n",
       "    </tr>\n",
       "  </thead>\n",
       "  <tbody>\n",
       "    <tr>\n",
       "      <th>86621</th>\n",
       "      <td>1990</td>\n",
       "      <td>101723</td>\n",
       "      <td>0.5</td>\n",
       "      <td>1</td>\n",
       "    </tr>\n",
       "    <tr>\n",
       "      <th>86622</th>\n",
       "      <td>1990</td>\n",
       "      <td>100946</td>\n",
       "      <td>0.9</td>\n",
       "      <td>1</td>\n",
       "    </tr>\n",
       "    <tr>\n",
       "      <th>86623</th>\n",
       "      <td>1990</td>\n",
       "      <td>101234</td>\n",
       "      <td>1.0</td>\n",
       "      <td>1</td>\n",
       "    </tr>\n",
       "  </tbody>\n",
       "</table>\n",
       "</div>"
      ],
      "text/plain": [
       "       tourney_year      id  ratio  result\n",
       "86621          1990  101723    0.5       1\n",
       "86622          1990  100946    0.9       1\n",
       "86623          1990  101234    1.0       1"
      ]
     },
     "execution_count": 108,
     "metadata": {},
     "output_type": "execute_result"
    }
   ],
   "source": [
    "win.head(3)"
   ]
  },
  {
   "cell_type": "code",
   "execution_count": 109,
   "metadata": {},
   "outputs": [],
   "source": [
    "# Далее создаем новый столбец, который будет содержать True, если значение ratio выше медианы,\n",
    "# или False, если ниже медианы\n",
    "\n",
    "win['mediana_level'] = win['ratio'] >= w_median_ratio\n",
    "lose['mediana_level'] = lose['ratio'] >= l_median_ratio"
   ]
  },
  {
   "cell_type": "code",
   "execution_count": 110,
   "metadata": {},
   "outputs": [
    {
     "data": {
      "text/html": [
       "<div>\n",
       "<style scoped>\n",
       "    .dataframe tbody tr th:only-of-type {\n",
       "        vertical-align: middle;\n",
       "    }\n",
       "\n",
       "    .dataframe tbody tr th {\n",
       "        vertical-align: top;\n",
       "    }\n",
       "\n",
       "    .dataframe thead th {\n",
       "        text-align: right;\n",
       "    }\n",
       "</style>\n",
       "<table border=\"1\" class=\"dataframe\">\n",
       "  <thead>\n",
       "    <tr style=\"text-align: right;\">\n",
       "      <th></th>\n",
       "      <th>tourney_year</th>\n",
       "      <th>id</th>\n",
       "      <th>ratio</th>\n",
       "      <th>result</th>\n",
       "      <th>mediana_level</th>\n",
       "    </tr>\n",
       "  </thead>\n",
       "  <tbody>\n",
       "    <tr>\n",
       "      <th>3784</th>\n",
       "      <td>1992</td>\n",
       "      <td>100652</td>\n",
       "      <td>0.700000</td>\n",
       "      <td>1</td>\n",
       "      <td>True</td>\n",
       "    </tr>\n",
       "    <tr>\n",
       "      <th>116206</th>\n",
       "      <td>2021</td>\n",
       "      <td>105916</td>\n",
       "      <td>0.375000</td>\n",
       "      <td>0</td>\n",
       "      <td>False</td>\n",
       "    </tr>\n",
       "    <tr>\n",
       "      <th>22210</th>\n",
       "      <td>2003</td>\n",
       "      <td>104026</td>\n",
       "      <td>0.333333</td>\n",
       "      <td>1</td>\n",
       "      <td>False</td>\n",
       "    </tr>\n",
       "    <tr>\n",
       "      <th>26942</th>\n",
       "      <td>2006</td>\n",
       "      <td>102869</td>\n",
       "      <td>0.785714</td>\n",
       "      <td>1</td>\n",
       "      <td>True</td>\n",
       "    </tr>\n",
       "    <tr>\n",
       "      <th>22690</th>\n",
       "      <td>2003</td>\n",
       "      <td>102227</td>\n",
       "      <td>0.700000</td>\n",
       "      <td>1</td>\n",
       "      <td>True</td>\n",
       "    </tr>\n",
       "  </tbody>\n",
       "</table>\n",
       "</div>"
      ],
      "text/plain": [
       "        tourney_year      id     ratio  result  mediana_level\n",
       "3784            1992  100652  0.700000       1           True\n",
       "116206          2021  105916  0.375000       0          False\n",
       "22210           2003  104026  0.333333       1          False\n",
       "26942           2006  102869  0.785714       1           True\n",
       "22690           2003  102227  0.700000       1           True"
      ]
     },
     "execution_count": 110,
     "metadata": {},
     "output_type": "execute_result"
    }
   ],
   "source": [
    "# Объединение датасетов\n",
    "combined_df3 = pd.concat([win, lose], ignore_index=True)\n",
    "combined_df3.sample(5)"
   ]
  },
  {
   "cell_type": "code",
   "execution_count": 111,
   "metadata": {},
   "outputs": [
    {
     "data": {
      "text/html": [
       "<div>\n",
       "<style scoped>\n",
       "    .dataframe tbody tr th:only-of-type {\n",
       "        vertical-align: middle;\n",
       "    }\n",
       "\n",
       "    .dataframe tbody tr th {\n",
       "        vertical-align: top;\n",
       "    }\n",
       "\n",
       "    .dataframe thead th {\n",
       "        text-align: right;\n",
       "    }\n",
       "</style>\n",
       "<table border=\"1\" class=\"dataframe\">\n",
       "  <thead>\n",
       "    <tr style=\"text-align: right;\">\n",
       "      <th>mediana_level</th>\n",
       "      <th>result</th>\n",
       "      <th>False</th>\n",
       "      <th>True</th>\n",
       "    </tr>\n",
       "  </thead>\n",
       "  <tbody>\n",
       "    <tr>\n",
       "      <th>0</th>\n",
       "      <td>0</td>\n",
       "      <td>26790</td>\n",
       "      <td>43629</td>\n",
       "    </tr>\n",
       "    <tr>\n",
       "      <th>1</th>\n",
       "      <td>1</td>\n",
       "      <td>25159</td>\n",
       "      <td>26515</td>\n",
       "    </tr>\n",
       "  </tbody>\n",
       "</table>\n",
       "</div>"
      ],
      "text/plain": [
       "mediana_level  result  False   True\n",
       "0                   0  26790  43629\n",
       "1                   1  25159  26515"
      ]
     },
     "execution_count": 111,
     "metadata": {},
     "output_type": "execute_result"
    }
   ],
   "source": [
    "# Группировка для визуализации\n",
    "groupped_df3 = combined_df3.groupby(\n",
    "    'result')['mediana_level'].value_counts().unstack().reset_index()\n",
    "groupped_df3.head()"
   ]
  },
  {
   "cell_type": "code",
   "execution_count": 112,
   "metadata": {},
   "outputs": [
    {
     "data": {
      "image/png": "[encoded data removed]",
      "text/plain": [
       "<Figure size 1000x500 with 2 Axes>"
      ]
     },
     "metadata": {},
     "output_type": "display_data"
    }
   ],
   "source": [
    "# Построение столбчатой диаграммы\n",
    "\n",
    "# Построение отдельных столбчатых диаграмм для True и False\n",
    "fig, axes = plt.subplots(nrows=1, ncols=2, figsize=(10, 5), sharey=True)\n",
    "\n",
    "# Диаграмма для True значений\n",
    "groupped_df3.plot(x='result', y=True, kind='bar', color='green', ax=axes[0])\n",
    "axes[0].set_title('True значения mediana_level')\n",
    "axes[0].set_xlabel('Result')\n",
    "axes[0].set_ylabel('Количество')\n",
    "axes[0].legend(['True'])\n",
    "\n",
    "# Диаграмма для False значений\n",
    "groupped_df3.plot(x='result', y=False, kind='bar', color='red', ax=axes[1])\n",
    "axes[1].set_title('False значения mediana_level')\n",
    "axes[1].set_xlabel('Result')\n",
    "axes[1].legend(['False'])\n",
    "\n",
    "plt.suptitle(\n",
    "    'Количество True и False в mediana_level по разным значениям result')\n",
    "plt.tight_layout(rect=[0, 0.03, 1, 0.95])\n",
    "plt.show()"
   ]
  },
  {
   "cell_type": "markdown",
   "metadata": {},
   "source": [
    "Для выбора статистического теста нужно учитывать следующее:\n",
    " - переменные парные, бинарные, категориальные\n",
    " - выборка большая (более 25 тысяч наблюдений в каждой категории), что позволяет использовать приближение хи-квадрат.\n",
    " - выборки связаны, так как данные о проигрышах и выигрышах брались из одной строки \n",
    "\n",
    "Для проверки зависимости между победой в матче (бинарный признак) и превышением уровня медианы (также бинарный признак) можно использовать тест хи-квадрат (Chi-squared test) на независимость. Этот тест оценивает, есть ли значимая статистическая связь между двумя категориальными переменными в таблице сопряженности.\n",
    "\n",
    "\n",
    "**Нулевая гипотеза (H0):** Нет связи между победой в матче и тем, выше или ниже медианы уровень ratio. То есть, превышение или непревышение медианы не влияет на результат матча.\n",
    "**Альтернативная гипотеза (H1):** Существует связь между победой в матче и уровнем ratio относительно медианы. То есть, результат матча зависит от того, был ли уровень ratio выше или ниже медианы."
   ]
  },
  {
   "cell_type": "code",
   "execution_count": 113,
   "metadata": {},
   "outputs": [],
   "source": [
    "# Создаем кросс-таблицу для этих столбцов\n",
    "crosstab = pd.crosstab(combined_df3['result'], combined_df3['mediana_level'])"
   ]
  },
  {
   "cell_type": "code",
   "execution_count": 114,
   "metadata": {},
   "outputs": [
    {
     "data": {
      "text/html": [
       "<div>\n",
       "<style scoped>\n",
       "    .dataframe tbody tr th:only-of-type {\n",
       "        vertical-align: middle;\n",
       "    }\n",
       "\n",
       "    .dataframe tbody tr th {\n",
       "        vertical-align: top;\n",
       "    }\n",
       "\n",
       "    .dataframe thead th {\n",
       "        text-align: right;\n",
       "    }\n",
       "</style>\n",
       "<table border=\"1\" class=\"dataframe\">\n",
       "  <thead>\n",
       "    <tr style=\"text-align: right;\">\n",
       "      <th>mediana_level</th>\n",
       "      <th>False</th>\n",
       "      <th>True</th>\n",
       "    </tr>\n",
       "    <tr>\n",
       "      <th>result</th>\n",
       "      <th></th>\n",
       "      <th></th>\n",
       "    </tr>\n",
       "  </thead>\n",
       "  <tbody>\n",
       "    <tr>\n",
       "      <th>0</th>\n",
       "      <td>26790</td>\n",
       "      <td>43629</td>\n",
       "    </tr>\n",
       "    <tr>\n",
       "      <th>1</th>\n",
       "      <td>25159</td>\n",
       "      <td>26515</td>\n",
       "    </tr>\n",
       "  </tbody>\n",
       "</table>\n",
       "</div>"
      ],
      "text/plain": [
       "mediana_level  False  True \n",
       "result                     \n",
       "0              26790  43629\n",
       "1              25159  26515"
      ]
     },
     "execution_count": 114,
     "metadata": {},
     "output_type": "execute_result"
    }
   ],
   "source": [
    "crosstab"
   ]
  },
  {
   "cell_type": "code",
   "execution_count": 115,
   "metadata": {},
   "outputs": [
    {
     "name": "stdout",
     "output_type": "stream",
     "text": [
      "P-value: 0.0\n",
      "alpha: 0.005\n",
      "Отвергаем нулевую гипотезу.\n",
      "Альтернативная гипотеза. H1: Существует связь между победой в матче и значение выигранных брейкпоинтов по отношению к медиане\n"
     ]
    }
   ],
   "source": [
    "# Формулирование гипотезы\n",
    "\n",
    "H0: 'Нет связи между победой в матче и значение выигранных брейкпоинтов по отношению к медиане.'\n",
    "H1 = 'Существует связь между победой в матче и значение выигранных брейкпоинтов по отношению к медиане'\n",
    "\n",
    "alpha = 0.005\n",
    "\n",
    "# Выполнение теста хи-квадрат\n",
    "__, p, __, __ = chi2_contingency(crosstab)\n",
    "print(f\"P-value: {round(p,5)}\")\n",
    "print(f\"alpha: {alpha}\")\n",
    "\n",
    "if (p < alpha):\n",
    "    print(\"Отвергаем нулевую гипотезу.\")\n",
    "    print(f'Альтернативная гипотеза. H1: {H1}')\n",
    "else:\n",
    "    print(f'Принимаем нулевую гипотезу. {H0}')"
   ]
  },
  {
   "cell_type": "markdown",
   "metadata": {},
   "source": [
    "p-value имеет очень маленькое значение близкое к 0, поэтому оно меньше, чем установленный уровень значимости alpha (0.05). Соответственно, мы отвергаем нулевую гипотезу Н0 и принимаем альтернативную Н1.\n",
    "Таким образом, доля выигранных брейкпоинтов статистически значимо связана с вероятностью победы в матче по результатам статистического теста. "
   ]
  }
 ],
 "metadata": {
  "kernelspec": {
   "display_name": "Python 3",
   "language": "python",
   "name": "python3"
  },
  "language_info": {
   "codemirror_mode": {
    "name": "ipython",
    "version": 3
   },
   "file_extension": ".py",
   "mimetype": "text/x-python",
   "name": "python",
   "nbconvert_exporter": "python",
   "pygments_lexer": "ipython3",
   "version": "3.9.10"
  }
 },
 "nbformat": 4,
 "nbformat_minor": 2
}
